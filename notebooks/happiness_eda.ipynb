{
 "cells": [
  {
   "cell_type": "markdown",
   "metadata": {
    "id": "A4qcqYUy5YkM"
   },
   "source": [
    "# What makes people happy? Can you find Dytopia?\n",
    "\n",
    "The `World Happiness Report` is a landmark survey of the state of global happiness that ranks 156 countries by how happy their citizens perceive themselves to be. Over the last year’s, `World Happiness Report` focuses on happiness and the community: how happiness has evolved over the past dozen years, with a focus on the technologies, social norms, conflicts and government policies that have driven those changes.\n",
    "\n",
    "<img src=\"https://allthatsinteresting.com/wordpress/wp-content/uploads/2016/03/giphy-4.gif\" width=\"700px\">\n",
    "\n",
    "**Dataset information**\n",
    "\n",
    "    The information in the datasets is based on answers to the most life evaluation address inquired within the survey. This address, known as the Cantril step, asks respondents to think of a step with the most excellent conceivable life for them being a 10 and the most exceedingly bad conceivable life being a and to rate their claim current lives on that scale. \n",
    "\n",
    "\n",
    "The Happiness Score is explained by the following factors:\n",
    "\n",
    "- `Overall rank`: happiness rank of the different countries\n",
    "- `Country o region`\n",
    "- `Score`:  is a national average of the responses to the main life evaluation question asked in the Gallup World Poll (GWP), which uses the Cantril Ladder. Ranges from [0-10]\n",
    "- `GDP per capita`\n",
    "- `Healthy Life Expectancy`: score that goes from [0-1], being 1 the ones that have more confidence in terms of healthy life\n",
    "- `Social support`: it indicates how people are appreciating the social support by governments, and it that ranges from [0-2]\n",
    "- `Freedom to make life choices` score that ranges from 0 to 1, being 1 the ones that feel more free\n",
    "- `Generosity`:score that ranges from 0 to 1, being 1 the ones that feel more generosity \n",
    "- `Perceptions of corruption`: perception of corruption on the country that it goes from  0 to 1. The higher this value is the lower perception of corruption \n",
    "- `year`  \n",
    "\n",
    "\n",
    ">dataset: `happiness_score.csv`"
   ]
  },
  {
   "cell_type": "code",
   "execution_count": null,
   "metadata": {
    "id": "y7GARtQv4L-Z",
    "scrolled": true
   },
   "outputs": [],
   "source": [
    "import pandas as pd\n",
    "pd.options.mode.chained_assignment = None\n",
    "\n",
    "import numpy as np\n",
    "import seaborn as sns\n",
    "import matplotlib.pyplot as plt\n",
    "import os\n",
    "\n",
    "import warnings\n",
    "warnings.filterwarnings('ignore')"
   ]
  },
  {
   "cell_type": "code",
   "execution_count": 48,
   "metadata": {},
   "outputs": [],
   "source": [
    "# Import functions\n",
    "import sys\n",
    "sys.path.insert(0, '../_functions_')\n",
    "\n",
    "import functions_EDA as feda"
   ]
  },
  {
   "cell_type": "markdown",
   "metadata": {
    "id": "xg5aTWPsfd6U",
    "outputId": "af6ac151-a7a0-42ec-a3a9-82591a432466"
   },
   "source": [
    "### Exercise 1.Tell a story with your dataset, to try to answer the following question:\n",
    "\n",
    ">\"Which factors are more important to live a happier life? As a result, people and countries can focus on the more significant factors to achieve a higher happiness level \"\n",
    "\n",
    "To achieve this goal, use the different funcionalities from the visualization libraries that you have seen in the module."
   ]
  },
  {
   "cell_type": "markdown",
   "metadata": {},
   "source": [
    "## EDA\n",
    "\n",
    "### Load data and inspect raw structure: shape, columns, head/tail, nulls, data types, descriptive stats (.describe())."
   ]
  },
  {
   "cell_type": "code",
   "execution_count": 83,
   "metadata": {},
   "outputs": [],
   "source": [
    "df = pd.read_csv('../data/raw/happiness_score.csv')"
   ]
  },
  {
   "cell_type": "code",
   "execution_count": 84,
   "metadata": {},
   "outputs": [
    {
     "data": {
      "text/plain": [
       "(312, 12)"
      ]
     },
     "execution_count": 84,
     "metadata": {},
     "output_type": "execute_result"
    }
   ],
   "source": [
    "df.shape"
   ]
  },
  {
   "cell_type": "code",
   "execution_count": 85,
   "metadata": {},
   "outputs": [
    {
     "data": {
      "text/plain": [
       "Index(['Unnamed: 0.1', 'Unnamed: 0', 'Overall rank', 'Country or region',\n",
       "       'Score', 'GDP per capita', 'Social support', 'Healthy life expectancy',\n",
       "       'Freedom to make life choices', 'Generosity',\n",
       "       'Perceptions of corruption', 'year'],\n",
       "      dtype='object')"
      ]
     },
     "execution_count": 85,
     "metadata": {},
     "output_type": "execute_result"
    }
   ],
   "source": [
    "df.columns"
   ]
  },
  {
   "cell_type": "code",
   "execution_count": 86,
   "metadata": {},
   "outputs": [
    {
     "data": {
      "text/plain": [
       "Unnamed: 0.1                      int64\n",
       "Unnamed: 0                        int64\n",
       "Overall rank                      int64\n",
       "Country or region                object\n",
       "Score                           float64\n",
       "GDP per capita                  float64\n",
       "Social support                  float64\n",
       "Healthy life expectancy         float64\n",
       "Freedom to make life choices    float64\n",
       "Generosity                      float64\n",
       "Perceptions of corruption       float64\n",
       "year                              int64\n",
       "dtype: object"
      ]
     },
     "execution_count": 86,
     "metadata": {},
     "output_type": "execute_result"
    }
   ],
   "source": [
    "df.dtypes"
   ]
  },
  {
   "cell_type": "code",
   "execution_count": 87,
   "metadata": {},
   "outputs": [
    {
     "data": {
      "text/html": [
       "<div>\n",
       "<style scoped>\n",
       "    .dataframe tbody tr th:only-of-type {\n",
       "        vertical-align: middle;\n",
       "    }\n",
       "\n",
       "    .dataframe tbody tr th {\n",
       "        vertical-align: top;\n",
       "    }\n",
       "\n",
       "    .dataframe thead th {\n",
       "        text-align: right;\n",
       "    }\n",
       "</style>\n",
       "<table border=\"1\" class=\"dataframe\">\n",
       "  <thead>\n",
       "    <tr style=\"text-align: right;\">\n",
       "      <th></th>\n",
       "      <th>Unnamed: 0.1</th>\n",
       "      <th>Unnamed: 0</th>\n",
       "      <th>Overall rank</th>\n",
       "      <th>Score</th>\n",
       "      <th>GDP per capita</th>\n",
       "      <th>Social support</th>\n",
       "      <th>Healthy life expectancy</th>\n",
       "      <th>Freedom to make life choices</th>\n",
       "      <th>Generosity</th>\n",
       "      <th>Perceptions of corruption</th>\n",
       "      <th>year</th>\n",
       "    </tr>\n",
       "  </thead>\n",
       "  <tbody>\n",
       "    <tr>\n",
       "      <th>count</th>\n",
       "      <td>312.000000</td>\n",
       "      <td>312.000000</td>\n",
       "      <td>312.000000</td>\n",
       "      <td>312.000000</td>\n",
       "      <td>312.000000</td>\n",
       "      <td>312.000000</td>\n",
       "      <td>7.000000</td>\n",
       "      <td>312.000000</td>\n",
       "      <td>312.000000</td>\n",
       "      <td>311.000000</td>\n",
       "      <td>312.000000</td>\n",
       "    </tr>\n",
       "    <tr>\n",
       "      <th>mean</th>\n",
       "      <td>155.500000</td>\n",
       "      <td>77.500000</td>\n",
       "      <td>78.500000</td>\n",
       "      <td>5.391506</td>\n",
       "      <td>0.898298</td>\n",
       "      <td>1.211026</td>\n",
       "      <td>0.038571</td>\n",
       "      <td>0.423538</td>\n",
       "      <td>0.182926</td>\n",
       "      <td>0.111299</td>\n",
       "      <td>2018.500000</td>\n",
       "    </tr>\n",
       "    <tr>\n",
       "      <th>std</th>\n",
       "      <td>90.210864</td>\n",
       "      <td>45.104737</td>\n",
       "      <td>45.104737</td>\n",
       "      <td>1.114631</td>\n",
       "      <td>0.394592</td>\n",
       "      <td>0.300310</td>\n",
       "      <td>0.035213</td>\n",
       "      <td>0.156024</td>\n",
       "      <td>0.096739</td>\n",
       "      <td>0.095365</td>\n",
       "      <td>0.500803</td>\n",
       "    </tr>\n",
       "    <tr>\n",
       "      <th>min</th>\n",
       "      <td>0.000000</td>\n",
       "      <td>0.000000</td>\n",
       "      <td>1.000000</td>\n",
       "      <td>2.853000</td>\n",
       "      <td>0.000000</td>\n",
       "      <td>0.000000</td>\n",
       "      <td>0.000000</td>\n",
       "      <td>0.000000</td>\n",
       "      <td>0.000000</td>\n",
       "      <td>0.000000</td>\n",
       "      <td>2018.000000</td>\n",
       "    </tr>\n",
       "    <tr>\n",
       "      <th>25%</th>\n",
       "      <td>77.750000</td>\n",
       "      <td>38.750000</td>\n",
       "      <td>39.750000</td>\n",
       "      <td>4.514250</td>\n",
       "      <td>0.609500</td>\n",
       "      <td>1.055750</td>\n",
       "      <td>0.005000</td>\n",
       "      <td>0.322500</td>\n",
       "      <td>0.108750</td>\n",
       "      <td>0.050000</td>\n",
       "      <td>2018.000000</td>\n",
       "    </tr>\n",
       "    <tr>\n",
       "      <th>50%</th>\n",
       "      <td>155.500000</td>\n",
       "      <td>77.500000</td>\n",
       "      <td>78.500000</td>\n",
       "      <td>5.379500</td>\n",
       "      <td>0.960000</td>\n",
       "      <td>1.265500</td>\n",
       "      <td>0.048000</td>\n",
       "      <td>0.449500</td>\n",
       "      <td>0.175500</td>\n",
       "      <td>0.082000</td>\n",
       "      <td>2018.500000</td>\n",
       "    </tr>\n",
       "    <tr>\n",
       "      <th>75%</th>\n",
       "      <td>233.250000</td>\n",
       "      <td>116.250000</td>\n",
       "      <td>117.250000</td>\n",
       "      <td>6.176000</td>\n",
       "      <td>1.219500</td>\n",
       "      <td>1.457500</td>\n",
       "      <td>0.066000</td>\n",
       "      <td>0.540250</td>\n",
       "      <td>0.245000</td>\n",
       "      <td>0.140500</td>\n",
       "      <td>2019.000000</td>\n",
       "    </tr>\n",
       "    <tr>\n",
       "      <th>max</th>\n",
       "      <td>311.000000</td>\n",
       "      <td>155.000000</td>\n",
       "      <td>156.000000</td>\n",
       "      <td>7.769000</td>\n",
       "      <td>2.096000</td>\n",
       "      <td>1.644000</td>\n",
       "      <td>0.080000</td>\n",
       "      <td>0.724000</td>\n",
       "      <td>0.598000</td>\n",
       "      <td>0.457000</td>\n",
       "      <td>2019.000000</td>\n",
       "    </tr>\n",
       "  </tbody>\n",
       "</table>\n",
       "</div>"
      ],
      "text/plain": [
       "       Unnamed: 0.1  Unnamed: 0  Overall rank       Score  GDP per capita  \\\n",
       "count    312.000000  312.000000    312.000000  312.000000      312.000000   \n",
       "mean     155.500000   77.500000     78.500000    5.391506        0.898298   \n",
       "std       90.210864   45.104737     45.104737    1.114631        0.394592   \n",
       "min        0.000000    0.000000      1.000000    2.853000        0.000000   \n",
       "25%       77.750000   38.750000     39.750000    4.514250        0.609500   \n",
       "50%      155.500000   77.500000     78.500000    5.379500        0.960000   \n",
       "75%      233.250000  116.250000    117.250000    6.176000        1.219500   \n",
       "max      311.000000  155.000000    156.000000    7.769000        2.096000   \n",
       "\n",
       "       Social support  Healthy life expectancy  Freedom to make life choices  \\\n",
       "count      312.000000                 7.000000                    312.000000   \n",
       "mean         1.211026                 0.038571                      0.423538   \n",
       "std          0.300310                 0.035213                      0.156024   \n",
       "min          0.000000                 0.000000                      0.000000   \n",
       "25%          1.055750                 0.005000                      0.322500   \n",
       "50%          1.265500                 0.048000                      0.449500   \n",
       "75%          1.457500                 0.066000                      0.540250   \n",
       "max          1.644000                 0.080000                      0.724000   \n",
       "\n",
       "       Generosity  Perceptions of corruption         year  \n",
       "count  312.000000                 311.000000   312.000000  \n",
       "mean     0.182926                   0.111299  2018.500000  \n",
       "std      0.096739                   0.095365     0.500803  \n",
       "min      0.000000                   0.000000  2018.000000  \n",
       "25%      0.108750                   0.050000  2018.000000  \n",
       "50%      0.175500                   0.082000  2018.500000  \n",
       "75%      0.245000                   0.140500  2019.000000  \n",
       "max      0.598000                   0.457000  2019.000000  "
      ]
     },
     "execution_count": 87,
     "metadata": {},
     "output_type": "execute_result"
    }
   ],
   "source": [
    "df.describe()"
   ]
  },
  {
   "cell_type": "code",
   "execution_count": 88,
   "metadata": {},
   "outputs": [
    {
     "data": {
      "text/html": [
       "<div>\n",
       "<style scoped>\n",
       "    .dataframe tbody tr th:only-of-type {\n",
       "        vertical-align: middle;\n",
       "    }\n",
       "\n",
       "    .dataframe tbody tr th {\n",
       "        vertical-align: top;\n",
       "    }\n",
       "\n",
       "    .dataframe thead th {\n",
       "        text-align: right;\n",
       "    }\n",
       "</style>\n",
       "<table border=\"1\" class=\"dataframe\">\n",
       "  <thead>\n",
       "    <tr style=\"text-align: right;\">\n",
       "      <th></th>\n",
       "      <th>Unnamed: 0.1</th>\n",
       "      <th>Unnamed: 0</th>\n",
       "      <th>Overall rank</th>\n",
       "      <th>Country or region</th>\n",
       "      <th>Score</th>\n",
       "      <th>GDP per capita</th>\n",
       "      <th>Social support</th>\n",
       "      <th>Healthy life expectancy</th>\n",
       "      <th>Freedom to make life choices</th>\n",
       "      <th>Generosity</th>\n",
       "      <th>Perceptions of corruption</th>\n",
       "      <th>year</th>\n",
       "    </tr>\n",
       "  </thead>\n",
       "  <tbody>\n",
       "    <tr>\n",
       "      <th>0</th>\n",
       "      <td>0</td>\n",
       "      <td>0</td>\n",
       "      <td>1</td>\n",
       "      <td>Finland</td>\n",
       "      <td>7.632</td>\n",
       "      <td>1.305</td>\n",
       "      <td>1.592</td>\n",
       "      <td>NaN</td>\n",
       "      <td>0.681</td>\n",
       "      <td>0.202</td>\n",
       "      <td>0.393</td>\n",
       "      <td>2018</td>\n",
       "    </tr>\n",
       "    <tr>\n",
       "      <th>1</th>\n",
       "      <td>1</td>\n",
       "      <td>1</td>\n",
       "      <td>2</td>\n",
       "      <td>Norway</td>\n",
       "      <td>7.594</td>\n",
       "      <td>1.456</td>\n",
       "      <td>1.582</td>\n",
       "      <td>NaN</td>\n",
       "      <td>0.686</td>\n",
       "      <td>0.286</td>\n",
       "      <td>0.340</td>\n",
       "      <td>2018</td>\n",
       "    </tr>\n",
       "    <tr>\n",
       "      <th>2</th>\n",
       "      <td>2</td>\n",
       "      <td>2</td>\n",
       "      <td>3</td>\n",
       "      <td>Denmark</td>\n",
       "      <td>7.555</td>\n",
       "      <td>1.351</td>\n",
       "      <td>1.590</td>\n",
       "      <td>NaN</td>\n",
       "      <td>0.683</td>\n",
       "      <td>0.284</td>\n",
       "      <td>0.408</td>\n",
       "      <td>2018</td>\n",
       "    </tr>\n",
       "    <tr>\n",
       "      <th>3</th>\n",
       "      <td>3</td>\n",
       "      <td>3</td>\n",
       "      <td>4</td>\n",
       "      <td>Iceland</td>\n",
       "      <td>7.495</td>\n",
       "      <td>1.343</td>\n",
       "      <td>1.644</td>\n",
       "      <td>NaN</td>\n",
       "      <td>0.677</td>\n",
       "      <td>0.353</td>\n",
       "      <td>0.138</td>\n",
       "      <td>2018</td>\n",
       "    </tr>\n",
       "    <tr>\n",
       "      <th>4</th>\n",
       "      <td>4</td>\n",
       "      <td>4</td>\n",
       "      <td>5</td>\n",
       "      <td>Switzerland</td>\n",
       "      <td>7.487</td>\n",
       "      <td>1.420</td>\n",
       "      <td>1.549</td>\n",
       "      <td>NaN</td>\n",
       "      <td>0.660</td>\n",
       "      <td>0.256</td>\n",
       "      <td>0.357</td>\n",
       "      <td>2018</td>\n",
       "    </tr>\n",
       "  </tbody>\n",
       "</table>\n",
       "</div>"
      ],
      "text/plain": [
       "   Unnamed: 0.1  Unnamed: 0  Overall rank Country or region  Score  \\\n",
       "0             0           0             1           Finland  7.632   \n",
       "1             1           1             2            Norway  7.594   \n",
       "2             2           2             3           Denmark  7.555   \n",
       "3             3           3             4           Iceland  7.495   \n",
       "4             4           4             5       Switzerland  7.487   \n",
       "\n",
       "   GDP per capita  Social support  Healthy life expectancy  \\\n",
       "0           1.305           1.592                      NaN   \n",
       "1           1.456           1.582                      NaN   \n",
       "2           1.351           1.590                      NaN   \n",
       "3           1.343           1.644                      NaN   \n",
       "4           1.420           1.549                      NaN   \n",
       "\n",
       "   Freedom to make life choices  Generosity  Perceptions of corruption  year  \n",
       "0                         0.681       0.202                      0.393  2018  \n",
       "1                         0.686       0.286                      0.340  2018  \n",
       "2                         0.683       0.284                      0.408  2018  \n",
       "3                         0.677       0.353                      0.138  2018  \n",
       "4                         0.660       0.256                      0.357  2018  "
      ]
     },
     "execution_count": 88,
     "metadata": {},
     "output_type": "execute_result"
    }
   ],
   "source": [
    "df.head()\n"
   ]
  },
  {
   "cell_type": "code",
   "execution_count": 89,
   "metadata": {},
   "outputs": [
    {
     "data": {
      "text/html": [
       "<div>\n",
       "<style scoped>\n",
       "    .dataframe tbody tr th:only-of-type {\n",
       "        vertical-align: middle;\n",
       "    }\n",
       "\n",
       "    .dataframe tbody tr th {\n",
       "        vertical-align: top;\n",
       "    }\n",
       "\n",
       "    .dataframe thead th {\n",
       "        text-align: right;\n",
       "    }\n",
       "</style>\n",
       "<table border=\"1\" class=\"dataframe\">\n",
       "  <thead>\n",
       "    <tr style=\"text-align: right;\">\n",
       "      <th></th>\n",
       "      <th>Unnamed: 0.1</th>\n",
       "      <th>Unnamed: 0</th>\n",
       "      <th>Overall rank</th>\n",
       "      <th>Country or region</th>\n",
       "      <th>Score</th>\n",
       "      <th>GDP per capita</th>\n",
       "      <th>Social support</th>\n",
       "      <th>Healthy life expectancy</th>\n",
       "      <th>Freedom to make life choices</th>\n",
       "      <th>Generosity</th>\n",
       "      <th>Perceptions of corruption</th>\n",
       "      <th>year</th>\n",
       "    </tr>\n",
       "  </thead>\n",
       "  <tbody>\n",
       "    <tr>\n",
       "      <th>307</th>\n",
       "      <td>307</td>\n",
       "      <td>151</td>\n",
       "      <td>152</td>\n",
       "      <td>Rwanda</td>\n",
       "      <td>3.334</td>\n",
       "      <td>0.359</td>\n",
       "      <td>0.711</td>\n",
       "      <td>NaN</td>\n",
       "      <td>0.555</td>\n",
       "      <td>0.217</td>\n",
       "      <td>0.411</td>\n",
       "      <td>2019</td>\n",
       "    </tr>\n",
       "    <tr>\n",
       "      <th>308</th>\n",
       "      <td>308</td>\n",
       "      <td>152</td>\n",
       "      <td>153</td>\n",
       "      <td>Tanzania</td>\n",
       "      <td>3.231</td>\n",
       "      <td>0.476</td>\n",
       "      <td>0.885</td>\n",
       "      <td>NaN</td>\n",
       "      <td>0.417</td>\n",
       "      <td>0.276</td>\n",
       "      <td>0.147</td>\n",
       "      <td>2019</td>\n",
       "    </tr>\n",
       "    <tr>\n",
       "      <th>309</th>\n",
       "      <td>309</td>\n",
       "      <td>153</td>\n",
       "      <td>154</td>\n",
       "      <td>Afghanistan</td>\n",
       "      <td>3.203</td>\n",
       "      <td>0.350</td>\n",
       "      <td>0.517</td>\n",
       "      <td>NaN</td>\n",
       "      <td>0.000</td>\n",
       "      <td>0.158</td>\n",
       "      <td>0.025</td>\n",
       "      <td>2019</td>\n",
       "    </tr>\n",
       "    <tr>\n",
       "      <th>310</th>\n",
       "      <td>310</td>\n",
       "      <td>154</td>\n",
       "      <td>155</td>\n",
       "      <td>Central African Republic</td>\n",
       "      <td>3.083</td>\n",
       "      <td>0.026</td>\n",
       "      <td>0.000</td>\n",
       "      <td>NaN</td>\n",
       "      <td>0.225</td>\n",
       "      <td>0.235</td>\n",
       "      <td>0.035</td>\n",
       "      <td>2019</td>\n",
       "    </tr>\n",
       "    <tr>\n",
       "      <th>311</th>\n",
       "      <td>311</td>\n",
       "      <td>155</td>\n",
       "      <td>156</td>\n",
       "      <td>South Sudan</td>\n",
       "      <td>2.853</td>\n",
       "      <td>0.306</td>\n",
       "      <td>0.575</td>\n",
       "      <td>NaN</td>\n",
       "      <td>0.010</td>\n",
       "      <td>0.202</td>\n",
       "      <td>0.091</td>\n",
       "      <td>2019</td>\n",
       "    </tr>\n",
       "  </tbody>\n",
       "</table>\n",
       "</div>"
      ],
      "text/plain": [
       "     Unnamed: 0.1  Unnamed: 0  Overall rank         Country or region  Score  \\\n",
       "307           307         151           152                    Rwanda  3.334   \n",
       "308           308         152           153                  Tanzania  3.231   \n",
       "309           309         153           154               Afghanistan  3.203   \n",
       "310           310         154           155  Central African Republic  3.083   \n",
       "311           311         155           156               South Sudan  2.853   \n",
       "\n",
       "     GDP per capita  Social support  Healthy life expectancy  \\\n",
       "307           0.359           0.711                      NaN   \n",
       "308           0.476           0.885                      NaN   \n",
       "309           0.350           0.517                      NaN   \n",
       "310           0.026           0.000                      NaN   \n",
       "311           0.306           0.575                      NaN   \n",
       "\n",
       "     Freedom to make life choices  Generosity  Perceptions of corruption  year  \n",
       "307                         0.555       0.217                      0.411  2019  \n",
       "308                         0.417       0.276                      0.147  2019  \n",
       "309                         0.000       0.158                      0.025  2019  \n",
       "310                         0.225       0.235                      0.035  2019  \n",
       "311                         0.010       0.202                      0.091  2019  "
      ]
     },
     "execution_count": 89,
     "metadata": {},
     "output_type": "execute_result"
    }
   ],
   "source": [
    "df.tail()\n"
   ]
  },
  {
   "cell_type": "code",
   "execution_count": 90,
   "metadata": {},
   "outputs": [
    {
     "data": {
      "text/plain": [
       "Unnamed: 0.1                    False\n",
       "Unnamed: 0                      False\n",
       "Overall rank                    False\n",
       "Country or region               False\n",
       "Score                           False\n",
       "GDP per capita                  False\n",
       "Social support                  False\n",
       "Healthy life expectancy          True\n",
       "Freedom to make life choices    False\n",
       "Generosity                      False\n",
       "Perceptions of corruption        True\n",
       "year                            False\n",
       "dtype: bool"
      ]
     },
     "execution_count": 90,
     "metadata": {},
     "output_type": "execute_result"
    }
   ],
   "source": [
    "df.isna().any()"
   ]
  },
  {
   "cell_type": "code",
   "execution_count": 91,
   "metadata": {},
   "outputs": [
    {
     "data": {
      "text/plain": [
       "Unnamed: 0.1                      0\n",
       "Unnamed: 0                        0\n",
       "Overall rank                      0\n",
       "Country or region                 0\n",
       "Score                             0\n",
       "GDP per capita                    0\n",
       "Social support                    0\n",
       "Healthy life expectancy         305\n",
       "Freedom to make life choices      0\n",
       "Generosity                        0\n",
       "Perceptions of corruption         1\n",
       "year                              0\n",
       "dtype: int64"
      ]
     },
     "execution_count": 91,
     "metadata": {},
     "output_type": "execute_result"
    }
   ],
   "source": [
    "df.isnull().sum()"
   ]
  },
  {
   "cell_type": "code",
   "execution_count": 92,
   "metadata": {},
   "outputs": [
    {
     "data": {
      "text/plain": [
       "Unnamed: 0.1                     0.000000\n",
       "Unnamed: 0                       0.000000\n",
       "Overall rank                     0.000000\n",
       "Country or region                0.000000\n",
       "Score                            0.000000\n",
       "GDP per capita                   0.000000\n",
       "Social support                   0.000000\n",
       "Healthy life expectancy         97.756410\n",
       "Freedom to make life choices     0.000000\n",
       "Generosity                       0.000000\n",
       "Perceptions of corruption        0.320513\n",
       "year                             0.000000\n",
       "dtype: float64"
      ]
     },
     "execution_count": 92,
     "metadata": {},
     "output_type": "execute_result"
    }
   ],
   "source": [
    "df.isnull().mean() * 100"
   ]
  },
  {
   "cell_type": "code",
   "execution_count": 93,
   "metadata": {},
   "outputs": [
    {
     "data": {
      "text/html": [
       "<div>\n",
       "<style scoped>\n",
       "    .dataframe tbody tr th:only-of-type {\n",
       "        vertical-align: middle;\n",
       "    }\n",
       "\n",
       "    .dataframe tbody tr th {\n",
       "        vertical-align: top;\n",
       "    }\n",
       "\n",
       "    .dataframe thead th {\n",
       "        text-align: right;\n",
       "    }\n",
       "</style>\n",
       "<table border=\"1\" class=\"dataframe\">\n",
       "  <thead>\n",
       "    <tr style=\"text-align: right;\">\n",
       "      <th></th>\n",
       "      <th>Unnamed: 0.1</th>\n",
       "      <th>Unnamed: 0</th>\n",
       "      <th>Overall rank</th>\n",
       "      <th>Country or region</th>\n",
       "      <th>Score</th>\n",
       "      <th>GDP per capita</th>\n",
       "      <th>Social support</th>\n",
       "      <th>Healthy life expectancy</th>\n",
       "      <th>Freedom to make life choices</th>\n",
       "      <th>Generosity</th>\n",
       "      <th>Perceptions of corruption</th>\n",
       "      <th>year</th>\n",
       "    </tr>\n",
       "  </thead>\n",
       "  <tbody>\n",
       "    <tr>\n",
       "      <th>0</th>\n",
       "      <td>0</td>\n",
       "      <td>0</td>\n",
       "      <td>1</td>\n",
       "      <td>Finland</td>\n",
       "      <td>7.632</td>\n",
       "      <td>1.305</td>\n",
       "      <td>1.592</td>\n",
       "      <td>NaN</td>\n",
       "      <td>0.681</td>\n",
       "      <td>0.202</td>\n",
       "      <td>0.393</td>\n",
       "      <td>2018</td>\n",
       "    </tr>\n",
       "    <tr>\n",
       "      <th>1</th>\n",
       "      <td>1</td>\n",
       "      <td>1</td>\n",
       "      <td>2</td>\n",
       "      <td>Norway</td>\n",
       "      <td>7.594</td>\n",
       "      <td>1.456</td>\n",
       "      <td>1.582</td>\n",
       "      <td>NaN</td>\n",
       "      <td>0.686</td>\n",
       "      <td>0.286</td>\n",
       "      <td>0.340</td>\n",
       "      <td>2018</td>\n",
       "    </tr>\n",
       "    <tr>\n",
       "      <th>2</th>\n",
       "      <td>2</td>\n",
       "      <td>2</td>\n",
       "      <td>3</td>\n",
       "      <td>Denmark</td>\n",
       "      <td>7.555</td>\n",
       "      <td>1.351</td>\n",
       "      <td>1.590</td>\n",
       "      <td>NaN</td>\n",
       "      <td>0.683</td>\n",
       "      <td>0.284</td>\n",
       "      <td>0.408</td>\n",
       "      <td>2018</td>\n",
       "    </tr>\n",
       "    <tr>\n",
       "      <th>3</th>\n",
       "      <td>3</td>\n",
       "      <td>3</td>\n",
       "      <td>4</td>\n",
       "      <td>Iceland</td>\n",
       "      <td>7.495</td>\n",
       "      <td>1.343</td>\n",
       "      <td>1.644</td>\n",
       "      <td>NaN</td>\n",
       "      <td>0.677</td>\n",
       "      <td>0.353</td>\n",
       "      <td>0.138</td>\n",
       "      <td>2018</td>\n",
       "    </tr>\n",
       "    <tr>\n",
       "      <th>4</th>\n",
       "      <td>4</td>\n",
       "      <td>4</td>\n",
       "      <td>5</td>\n",
       "      <td>Switzerland</td>\n",
       "      <td>7.487</td>\n",
       "      <td>1.420</td>\n",
       "      <td>1.549</td>\n",
       "      <td>NaN</td>\n",
       "      <td>0.660</td>\n",
       "      <td>0.256</td>\n",
       "      <td>0.357</td>\n",
       "      <td>2018</td>\n",
       "    </tr>\n",
       "  </tbody>\n",
       "</table>\n",
       "</div>"
      ],
      "text/plain": [
       "   Unnamed: 0.1  Unnamed: 0  Overall rank Country or region  Score  \\\n",
       "0             0           0             1           Finland  7.632   \n",
       "1             1           1             2            Norway  7.594   \n",
       "2             2           2             3           Denmark  7.555   \n",
       "3             3           3             4           Iceland  7.495   \n",
       "4             4           4             5       Switzerland  7.487   \n",
       "\n",
       "   GDP per capita  Social support  Healthy life expectancy  \\\n",
       "0           1.305           1.592                      NaN   \n",
       "1           1.456           1.582                      NaN   \n",
       "2           1.351           1.590                      NaN   \n",
       "3           1.343           1.644                      NaN   \n",
       "4           1.420           1.549                      NaN   \n",
       "\n",
       "   Freedom to make life choices  Generosity  Perceptions of corruption  year  \n",
       "0                         0.681       0.202                      0.393  2018  \n",
       "1                         0.686       0.286                      0.340  2018  \n",
       "2                         0.683       0.284                      0.408  2018  \n",
       "3                         0.677       0.353                      0.138  2018  \n",
       "4                         0.660       0.256                      0.357  2018  "
      ]
     },
     "execution_count": 93,
     "metadata": {},
     "output_type": "execute_result"
    }
   ],
   "source": [
    "#Examples of countries/rows where data is incomplete.\n",
    "\n",
    "df[df.isnull().any(axis=1)].head()"
   ]
  },
  {
   "cell_type": "code",
   "execution_count": 94,
   "metadata": {},
   "outputs": [
    {
     "name": "stdout",
     "output_type": "stream",
     "text": [
      "<class 'pandas.core.frame.DataFrame'>\n",
      "RangeIndex: 312 entries, 0 to 311\n",
      "Data columns (total 12 columns):\n",
      " #   Column                        Non-Null Count  Dtype  \n",
      "---  ------                        --------------  -----  \n",
      " 0   Unnamed: 0.1                  312 non-null    int64  \n",
      " 1   Unnamed: 0                    312 non-null    int64  \n",
      " 2   Overall rank                  312 non-null    int64  \n",
      " 3   Country or region             312 non-null    object \n",
      " 4   Score                         312 non-null    float64\n",
      " 5   GDP per capita                312 non-null    float64\n",
      " 6   Social support                312 non-null    float64\n",
      " 7   Healthy life expectancy       7 non-null      float64\n",
      " 8   Freedom to make life choices  312 non-null    float64\n",
      " 9   Generosity                    312 non-null    float64\n",
      " 10  Perceptions of corruption     311 non-null    float64\n",
      " 11  year                          312 non-null    int64  \n",
      "dtypes: float64(7), int64(4), object(1)\n",
      "memory usage: 29.4+ KB\n"
     ]
    }
   ],
   "source": [
    "df.info()"
   ]
  },
  {
   "cell_type": "markdown",
   "metadata": {},
   "source": [
    "!! Healthy life expectancy has many NaNs."
   ]
  },
  {
   "cell_type": "markdown",
   "metadata": {},
   "source": [
    "### Standardize and clean column names (consistent naming)."
   ]
  },
  {
   "cell_type": "code",
   "execution_count": 95,
   "metadata": {},
   "outputs": [],
   "source": [
    "df = df.loc[:, ~df.columns.str.contains('^Unnamed')]"
   ]
  },
  {
   "cell_type": "code",
   "execution_count": 96,
   "metadata": {},
   "outputs": [
    {
     "data": {
      "text/plain": [
       "Index(['Overall rank', 'Country or region', 'Score', 'GDP per capita',\n",
       "       'Social support', 'Healthy life expectancy',\n",
       "       'Freedom to make life choices', 'Generosity',\n",
       "       'Perceptions of corruption', 'year'],\n",
       "      dtype='object')"
      ]
     },
     "execution_count": 96,
     "metadata": {},
     "output_type": "execute_result"
    }
   ],
   "source": [
    "df.columns\n"
   ]
  },
  {
   "cell_type": "code",
   "execution_count": 97,
   "metadata": {},
   "outputs": [
    {
     "data": {
      "text/plain": [
       "(312, 10)"
      ]
     },
     "execution_count": 97,
     "metadata": {},
     "output_type": "execute_result"
    }
   ],
   "source": [
    "df.shape"
   ]
  },
  {
   "cell_type": "code",
   "execution_count": 98,
   "metadata": {},
   "outputs": [
    {
     "name": "stdout",
     "output_type": "stream",
     "text": [
      "<class 'pandas.core.frame.DataFrame'>\n",
      "RangeIndex: 312 entries, 0 to 311\n",
      "Data columns (total 10 columns):\n",
      " #   Column                        Non-Null Count  Dtype  \n",
      "---  ------                        --------------  -----  \n",
      " 0   Overall rank                  312 non-null    int64  \n",
      " 1   Country or region             312 non-null    object \n",
      " 2   Score                         312 non-null    float64\n",
      " 3   GDP per capita                312 non-null    float64\n",
      " 4   Social support                312 non-null    float64\n",
      " 5   Healthy life expectancy       7 non-null      float64\n",
      " 6   Freedom to make life choices  312 non-null    float64\n",
      " 7   Generosity                    312 non-null    float64\n",
      " 8   Perceptions of corruption     311 non-null    float64\n",
      " 9   year                          312 non-null    int64  \n",
      "dtypes: float64(7), int64(2), object(1)\n",
      "memory usage: 24.5+ KB\n"
     ]
    }
   ],
   "source": [
    "df.info()"
   ]
  },
  {
   "cell_type": "code",
   "execution_count": 99,
   "metadata": {},
   "outputs": [
    {
     "data": {
      "text/html": [
       "<div>\n",
       "<style scoped>\n",
       "    .dataframe tbody tr th:only-of-type {\n",
       "        vertical-align: middle;\n",
       "    }\n",
       "\n",
       "    .dataframe tbody tr th {\n",
       "        vertical-align: top;\n",
       "    }\n",
       "\n",
       "    .dataframe thead th {\n",
       "        text-align: right;\n",
       "    }\n",
       "</style>\n",
       "<table border=\"1\" class=\"dataframe\">\n",
       "  <thead>\n",
       "    <tr style=\"text-align: right;\">\n",
       "      <th></th>\n",
       "      <th>overall_rank</th>\n",
       "      <th>country_or_region</th>\n",
       "      <th>score</th>\n",
       "      <th>gdp_per_capita</th>\n",
       "      <th>social_support</th>\n",
       "      <th>healthy_life_expectancy</th>\n",
       "      <th>freedom_to_make_life_choices</th>\n",
       "      <th>generosity</th>\n",
       "      <th>perceptions_of_corruption</th>\n",
       "      <th>year</th>\n",
       "    </tr>\n",
       "  </thead>\n",
       "  <tbody>\n",
       "    <tr>\n",
       "      <th>0</th>\n",
       "      <td>1</td>\n",
       "      <td>Finland</td>\n",
       "      <td>7.632</td>\n",
       "      <td>1.305</td>\n",
       "      <td>1.592</td>\n",
       "      <td>NaN</td>\n",
       "      <td>0.681</td>\n",
       "      <td>0.202</td>\n",
       "      <td>0.393</td>\n",
       "      <td>2018</td>\n",
       "    </tr>\n",
       "    <tr>\n",
       "      <th>1</th>\n",
       "      <td>2</td>\n",
       "      <td>Norway</td>\n",
       "      <td>7.594</td>\n",
       "      <td>1.456</td>\n",
       "      <td>1.582</td>\n",
       "      <td>NaN</td>\n",
       "      <td>0.686</td>\n",
       "      <td>0.286</td>\n",
       "      <td>0.340</td>\n",
       "      <td>2018</td>\n",
       "    </tr>\n",
       "    <tr>\n",
       "      <th>2</th>\n",
       "      <td>3</td>\n",
       "      <td>Denmark</td>\n",
       "      <td>7.555</td>\n",
       "      <td>1.351</td>\n",
       "      <td>1.590</td>\n",
       "      <td>NaN</td>\n",
       "      <td>0.683</td>\n",
       "      <td>0.284</td>\n",
       "      <td>0.408</td>\n",
       "      <td>2018</td>\n",
       "    </tr>\n",
       "    <tr>\n",
       "      <th>3</th>\n",
       "      <td>4</td>\n",
       "      <td>Iceland</td>\n",
       "      <td>7.495</td>\n",
       "      <td>1.343</td>\n",
       "      <td>1.644</td>\n",
       "      <td>NaN</td>\n",
       "      <td>0.677</td>\n",
       "      <td>0.353</td>\n",
       "      <td>0.138</td>\n",
       "      <td>2018</td>\n",
       "    </tr>\n",
       "    <tr>\n",
       "      <th>4</th>\n",
       "      <td>5</td>\n",
       "      <td>Switzerland</td>\n",
       "      <td>7.487</td>\n",
       "      <td>1.420</td>\n",
       "      <td>1.549</td>\n",
       "      <td>NaN</td>\n",
       "      <td>0.660</td>\n",
       "      <td>0.256</td>\n",
       "      <td>0.357</td>\n",
       "      <td>2018</td>\n",
       "    </tr>\n",
       "    <tr>\n",
       "      <th>...</th>\n",
       "      <td>...</td>\n",
       "      <td>...</td>\n",
       "      <td>...</td>\n",
       "      <td>...</td>\n",
       "      <td>...</td>\n",
       "      <td>...</td>\n",
       "      <td>...</td>\n",
       "      <td>...</td>\n",
       "      <td>...</td>\n",
       "      <td>...</td>\n",
       "    </tr>\n",
       "    <tr>\n",
       "      <th>307</th>\n",
       "      <td>152</td>\n",
       "      <td>Rwanda</td>\n",
       "      <td>3.334</td>\n",
       "      <td>0.359</td>\n",
       "      <td>0.711</td>\n",
       "      <td>NaN</td>\n",
       "      <td>0.555</td>\n",
       "      <td>0.217</td>\n",
       "      <td>0.411</td>\n",
       "      <td>2019</td>\n",
       "    </tr>\n",
       "    <tr>\n",
       "      <th>308</th>\n",
       "      <td>153</td>\n",
       "      <td>Tanzania</td>\n",
       "      <td>3.231</td>\n",
       "      <td>0.476</td>\n",
       "      <td>0.885</td>\n",
       "      <td>NaN</td>\n",
       "      <td>0.417</td>\n",
       "      <td>0.276</td>\n",
       "      <td>0.147</td>\n",
       "      <td>2019</td>\n",
       "    </tr>\n",
       "    <tr>\n",
       "      <th>309</th>\n",
       "      <td>154</td>\n",
       "      <td>Afghanistan</td>\n",
       "      <td>3.203</td>\n",
       "      <td>0.350</td>\n",
       "      <td>0.517</td>\n",
       "      <td>NaN</td>\n",
       "      <td>0.000</td>\n",
       "      <td>0.158</td>\n",
       "      <td>0.025</td>\n",
       "      <td>2019</td>\n",
       "    </tr>\n",
       "    <tr>\n",
       "      <th>310</th>\n",
       "      <td>155</td>\n",
       "      <td>Central African Republic</td>\n",
       "      <td>3.083</td>\n",
       "      <td>0.026</td>\n",
       "      <td>0.000</td>\n",
       "      <td>NaN</td>\n",
       "      <td>0.225</td>\n",
       "      <td>0.235</td>\n",
       "      <td>0.035</td>\n",
       "      <td>2019</td>\n",
       "    </tr>\n",
       "    <tr>\n",
       "      <th>311</th>\n",
       "      <td>156</td>\n",
       "      <td>South Sudan</td>\n",
       "      <td>2.853</td>\n",
       "      <td>0.306</td>\n",
       "      <td>0.575</td>\n",
       "      <td>NaN</td>\n",
       "      <td>0.010</td>\n",
       "      <td>0.202</td>\n",
       "      <td>0.091</td>\n",
       "      <td>2019</td>\n",
       "    </tr>\n",
       "  </tbody>\n",
       "</table>\n",
       "<p>312 rows × 10 columns</p>\n",
       "</div>"
      ],
      "text/plain": [
       "     overall_rank         country_or_region  score  gdp_per_capita  \\\n",
       "0               1                   Finland  7.632           1.305   \n",
       "1               2                    Norway  7.594           1.456   \n",
       "2               3                   Denmark  7.555           1.351   \n",
       "3               4                   Iceland  7.495           1.343   \n",
       "4               5               Switzerland  7.487           1.420   \n",
       "..            ...                       ...    ...             ...   \n",
       "307           152                    Rwanda  3.334           0.359   \n",
       "308           153                  Tanzania  3.231           0.476   \n",
       "309           154               Afghanistan  3.203           0.350   \n",
       "310           155  Central African Republic  3.083           0.026   \n",
       "311           156               South Sudan  2.853           0.306   \n",
       "\n",
       "     social_support  healthy_life_expectancy  freedom_to_make_life_choices  \\\n",
       "0             1.592                      NaN                         0.681   \n",
       "1             1.582                      NaN                         0.686   \n",
       "2             1.590                      NaN                         0.683   \n",
       "3             1.644                      NaN                         0.677   \n",
       "4             1.549                      NaN                         0.660   \n",
       "..              ...                      ...                           ...   \n",
       "307           0.711                      NaN                         0.555   \n",
       "308           0.885                      NaN                         0.417   \n",
       "309           0.517                      NaN                         0.000   \n",
       "310           0.000                      NaN                         0.225   \n",
       "311           0.575                      NaN                         0.010   \n",
       "\n",
       "     generosity  perceptions_of_corruption  year  \n",
       "0         0.202                      0.393  2018  \n",
       "1         0.286                      0.340  2018  \n",
       "2         0.284                      0.408  2018  \n",
       "3         0.353                      0.138  2018  \n",
       "4         0.256                      0.357  2018  \n",
       "..          ...                        ...   ...  \n",
       "307       0.217                      0.411  2019  \n",
       "308       0.276                      0.147  2019  \n",
       "309       0.158                      0.025  2019  \n",
       "310       0.235                      0.035  2019  \n",
       "311       0.202                      0.091  2019  \n",
       "\n",
       "[312 rows x 10 columns]"
      ]
     },
     "execution_count": 99,
     "metadata": {},
     "output_type": "execute_result"
    }
   ],
   "source": [
    "df_cleaned = feda.clean_column_names(df)\n",
    "df_cleaned"
   ]
  },
  {
   "cell_type": "markdown",
   "metadata": {},
   "source": [
    "### Review and correct data types (e.g., dates, categories, floats)."
   ]
  },
  {
   "cell_type": "code",
   "execution_count": 100,
   "metadata": {},
   "outputs": [
    {
     "data": {
      "text/plain": [
       "overall_rank                      int64\n",
       "country_or_region                object\n",
       "score                           float64\n",
       "gdp_per_capita                  float64\n",
       "social_support                  float64\n",
       "healthy_life_expectancy         float64\n",
       "freedom_to_make_life_choices    float64\n",
       "generosity                      float64\n",
       "perceptions_of_corruption       float64\n",
       "year                              int64\n",
       "dtype: object"
      ]
     },
     "execution_count": 100,
     "metadata": {},
     "output_type": "execute_result"
    }
   ],
   "source": [
    "df_cleaned.dtypes"
   ]
  },
  {
   "cell_type": "code",
   "execution_count": 101,
   "metadata": {},
   "outputs": [
    {
     "data": {
      "text/html": [
       "<div>\n",
       "<style scoped>\n",
       "    .dataframe tbody tr th:only-of-type {\n",
       "        vertical-align: middle;\n",
       "    }\n",
       "\n",
       "    .dataframe tbody tr th {\n",
       "        vertical-align: top;\n",
       "    }\n",
       "\n",
       "    .dataframe thead th {\n",
       "        text-align: right;\n",
       "    }\n",
       "</style>\n",
       "<table border=\"1\" class=\"dataframe\">\n",
       "  <thead>\n",
       "    <tr style=\"text-align: right;\">\n",
       "      <th></th>\n",
       "      <th>overall_rank</th>\n",
       "      <th>country_or_region</th>\n",
       "      <th>score</th>\n",
       "      <th>gdp_per_capita</th>\n",
       "      <th>social_support</th>\n",
       "      <th>healthy_life_expectancy</th>\n",
       "      <th>freedom_to_make_life_choices</th>\n",
       "      <th>generosity</th>\n",
       "      <th>perceptions_of_corruption</th>\n",
       "      <th>year</th>\n",
       "    </tr>\n",
       "  </thead>\n",
       "  <tbody>\n",
       "    <tr>\n",
       "      <th>0</th>\n",
       "      <td>1</td>\n",
       "      <td>Finland</td>\n",
       "      <td>7.632</td>\n",
       "      <td>1.305</td>\n",
       "      <td>1.592</td>\n",
       "      <td>NaN</td>\n",
       "      <td>0.681</td>\n",
       "      <td>0.202</td>\n",
       "      <td>0.393</td>\n",
       "      <td>2018</td>\n",
       "    </tr>\n",
       "    <tr>\n",
       "      <th>1</th>\n",
       "      <td>2</td>\n",
       "      <td>Norway</td>\n",
       "      <td>7.594</td>\n",
       "      <td>1.456</td>\n",
       "      <td>1.582</td>\n",
       "      <td>NaN</td>\n",
       "      <td>0.686</td>\n",
       "      <td>0.286</td>\n",
       "      <td>0.340</td>\n",
       "      <td>2018</td>\n",
       "    </tr>\n",
       "    <tr>\n",
       "      <th>2</th>\n",
       "      <td>3</td>\n",
       "      <td>Denmark</td>\n",
       "      <td>7.555</td>\n",
       "      <td>1.351</td>\n",
       "      <td>1.590</td>\n",
       "      <td>NaN</td>\n",
       "      <td>0.683</td>\n",
       "      <td>0.284</td>\n",
       "      <td>0.408</td>\n",
       "      <td>2018</td>\n",
       "    </tr>\n",
       "    <tr>\n",
       "      <th>3</th>\n",
       "      <td>4</td>\n",
       "      <td>Iceland</td>\n",
       "      <td>7.495</td>\n",
       "      <td>1.343</td>\n",
       "      <td>1.644</td>\n",
       "      <td>NaN</td>\n",
       "      <td>0.677</td>\n",
       "      <td>0.353</td>\n",
       "      <td>0.138</td>\n",
       "      <td>2018</td>\n",
       "    </tr>\n",
       "    <tr>\n",
       "      <th>4</th>\n",
       "      <td>5</td>\n",
       "      <td>Switzerland</td>\n",
       "      <td>7.487</td>\n",
       "      <td>1.420</td>\n",
       "      <td>1.549</td>\n",
       "      <td>NaN</td>\n",
       "      <td>0.660</td>\n",
       "      <td>0.256</td>\n",
       "      <td>0.357</td>\n",
       "      <td>2018</td>\n",
       "    </tr>\n",
       "  </tbody>\n",
       "</table>\n",
       "</div>"
      ],
      "text/plain": [
       "   overall_rank country_or_region  score  gdp_per_capita  social_support  \\\n",
       "0             1           Finland  7.632           1.305           1.592   \n",
       "1             2            Norway  7.594           1.456           1.582   \n",
       "2             3           Denmark  7.555           1.351           1.590   \n",
       "3             4           Iceland  7.495           1.343           1.644   \n",
       "4             5       Switzerland  7.487           1.420           1.549   \n",
       "\n",
       "   healthy_life_expectancy  freedom_to_make_life_choices  generosity  \\\n",
       "0                      NaN                         0.681       0.202   \n",
       "1                      NaN                         0.686       0.286   \n",
       "2                      NaN                         0.683       0.284   \n",
       "3                      NaN                         0.677       0.353   \n",
       "4                      NaN                         0.660       0.256   \n",
       "\n",
       "   perceptions_of_corruption  year  \n",
       "0                      0.393  2018  \n",
       "1                      0.340  2018  \n",
       "2                      0.408  2018  \n",
       "3                      0.138  2018  \n",
       "4                      0.357  2018  "
      ]
     },
     "execution_count": 101,
     "metadata": {},
     "output_type": "execute_result"
    }
   ],
   "source": [
    "df_cleaned.head(5)"
   ]
  },
  {
   "cell_type": "code",
   "execution_count": 102,
   "metadata": {},
   "outputs": [
    {
     "data": {
      "text/plain": [
       "country_or_region\n",
       "Finland            2\n",
       "Norway             2\n",
       "Denmark            2\n",
       "Iceland            2\n",
       "Switzerland        2\n",
       "                  ..\n",
       "Sudan              1\n",
       "North Macedonia    1\n",
       "Gambia             1\n",
       "Swaziland          1\n",
       "Comoros            1\n",
       "Name: count, Length: 160, dtype: int64"
      ]
     },
     "execution_count": 102,
     "metadata": {},
     "output_type": "execute_result"
    }
   ],
   "source": [
    "df_cleaned['country_or_region'].value_counts()"
   ]
  },
  {
   "cell_type": "code",
   "execution_count": 103,
   "metadata": {},
   "outputs": [],
   "source": [
    "\n",
    "df_cleaned['country_or_region'] = df_cleaned['country_or_region'].astype('category')"
   ]
  },
  {
   "cell_type": "code",
   "execution_count": 104,
   "metadata": {},
   "outputs": [
    {
     "data": {
      "text/plain": [
       "overall_rank                       int64\n",
       "country_or_region               category\n",
       "score                            float64\n",
       "gdp_per_capita                   float64\n",
       "social_support                   float64\n",
       "healthy_life_expectancy          float64\n",
       "freedom_to_make_life_choices     float64\n",
       "generosity                       float64\n",
       "perceptions_of_corruption        float64\n",
       "year                               int64\n",
       "dtype: object"
      ]
     },
     "execution_count": 104,
     "metadata": {},
     "output_type": "execute_result"
    }
   ],
   "source": [
    "df_cleaned.dtypes"
   ]
  },
  {
   "cell_type": "code",
   "execution_count": 105,
   "metadata": {},
   "outputs": [
    {
     "data": {
      "text/plain": [
       "Index(['Afghanistan', 'Albania', 'Algeria', 'Angola', 'Argentina', 'Armenia',\n",
       "       'Australia', 'Austria', 'Azerbaijan', 'Bahrain',\n",
       "       ...\n",
       "       'United Arab Emirates', 'United Kingdom', 'United States', 'Uruguay',\n",
       "       'Uzbekistan', 'Venezuela', 'Vietnam', 'Yemen', 'Zambia', 'Zimbabwe'],\n",
       "      dtype='object', length=160)"
      ]
     },
     "execution_count": 105,
     "metadata": {},
     "output_type": "execute_result"
    }
   ],
   "source": [
    "df_cleaned['country_or_region'].cat.categories"
   ]
  },
  {
   "cell_type": "code",
   "execution_count": 106,
   "metadata": {},
   "outputs": [
    {
     "name": "stdout",
     "output_type": "stream",
     "text": [
      "Index(['Afghanistan', 'Albania', 'Algeria', 'Angola', 'Argentina', 'Armenia',\n",
      "       'Australia', 'Austria', 'Azerbaijan', 'Bahrain',\n",
      "       ...\n",
      "       'United Arab Emirates', 'United Kingdom', 'United States', 'Uruguay',\n",
      "       'Uzbekistan', 'Venezuela', 'Vietnam', 'Yemen', 'Zambia', 'Zimbabwe'],\n",
      "      dtype='object', length=160)\n"
     ]
    }
   ],
   "source": [
    "print(df_cleaned['country_or_region'].cat.categories)"
   ]
  },
  {
   "cell_type": "code",
   "execution_count": 107,
   "metadata": {},
   "outputs": [
    {
     "data": {
      "text/plain": [
       "country_or_region\n",
       "Afghanistan        2\n",
       "Albania            2\n",
       "Algeria            2\n",
       "Argentina          2\n",
       "Australia          2\n",
       "                  ..\n",
       "Gambia             1\n",
       "Macedonia          1\n",
       "North Macedonia    1\n",
       "Sudan              1\n",
       "Swaziland          1\n",
       "Name: count, Length: 160, dtype: int64"
      ]
     },
     "execution_count": 107,
     "metadata": {},
     "output_type": "execute_result"
    }
   ],
   "source": [
    "# Get value counts efficiently\n",
    "df_cleaned['country_or_region'].value_counts()"
   ]
  },
  {
   "cell_type": "markdown",
   "metadata": {},
   "source": [
    "### Handle or drop NaNs before converting to non-null numeric types (like int)."
   ]
  },
  {
   "cell_type": "code",
   "execution_count": 108,
   "metadata": {},
   "outputs": [
    {
     "data": {
      "text/html": [
       "<div>\n",
       "<style scoped>\n",
       "    .dataframe tbody tr th:only-of-type {\n",
       "        vertical-align: middle;\n",
       "    }\n",
       "\n",
       "    .dataframe tbody tr th {\n",
       "        vertical-align: top;\n",
       "    }\n",
       "\n",
       "    .dataframe thead th {\n",
       "        text-align: right;\n",
       "    }\n",
       "</style>\n",
       "<table border=\"1\" class=\"dataframe\">\n",
       "  <thead>\n",
       "    <tr style=\"text-align: right;\">\n",
       "      <th></th>\n",
       "      <th>overall_rank</th>\n",
       "      <th>country_or_region</th>\n",
       "      <th>score</th>\n",
       "      <th>gdp_per_capita</th>\n",
       "      <th>social_support</th>\n",
       "      <th>healthy_life_expectancy</th>\n",
       "      <th>freedom_to_make_life_choices</th>\n",
       "      <th>generosity</th>\n",
       "      <th>perceptions_of_corruption</th>\n",
       "      <th>year</th>\n",
       "    </tr>\n",
       "  </thead>\n",
       "  <tbody>\n",
       "    <tr>\n",
       "      <th>55</th>\n",
       "      <td>56</td>\n",
       "      <td>Jamaica</td>\n",
       "      <td>5.890</td>\n",
       "      <td>0.819</td>\n",
       "      <td>1.493</td>\n",
       "      <td>NaN</td>\n",
       "      <td>0.575</td>\n",
       "      <td>0.096</td>\n",
       "      <td>0.031</td>\n",
       "      <td>2018</td>\n",
       "    </tr>\n",
       "    <tr>\n",
       "      <th>88</th>\n",
       "      <td>89</td>\n",
       "      <td>Macedonia</td>\n",
       "      <td>5.185</td>\n",
       "      <td>0.959</td>\n",
       "      <td>1.239</td>\n",
       "      <td>NaN</td>\n",
       "      <td>0.394</td>\n",
       "      <td>0.173</td>\n",
       "      <td>0.052</td>\n",
       "      <td>2018</td>\n",
       "    </tr>\n",
       "    <tr>\n",
       "      <th>62</th>\n",
       "      <td>63</td>\n",
       "      <td>Estonia</td>\n",
       "      <td>5.739</td>\n",
       "      <td>1.200</td>\n",
       "      <td>1.532</td>\n",
       "      <td>NaN</td>\n",
       "      <td>0.553</td>\n",
       "      <td>0.086</td>\n",
       "      <td>0.174</td>\n",
       "      <td>2018</td>\n",
       "    </tr>\n",
       "    <tr>\n",
       "      <th>93</th>\n",
       "      <td>94</td>\n",
       "      <td>Mongolia</td>\n",
       "      <td>5.125</td>\n",
       "      <td>0.914</td>\n",
       "      <td>1.517</td>\n",
       "      <td>NaN</td>\n",
       "      <td>0.395</td>\n",
       "      <td>0.253</td>\n",
       "      <td>0.032</td>\n",
       "      <td>2018</td>\n",
       "    </tr>\n",
       "    <tr>\n",
       "      <th>252</th>\n",
       "      <td>97</td>\n",
       "      <td>Bulgaria</td>\n",
       "      <td>5.011</td>\n",
       "      <td>1.092</td>\n",
       "      <td>1.513</td>\n",
       "      <td>NaN</td>\n",
       "      <td>0.311</td>\n",
       "      <td>0.081</td>\n",
       "      <td>0.004</td>\n",
       "      <td>2019</td>\n",
       "    </tr>\n",
       "    <tr>\n",
       "      <th>9</th>\n",
       "      <td>10</td>\n",
       "      <td>Australia</td>\n",
       "      <td>7.272</td>\n",
       "      <td>1.340</td>\n",
       "      <td>1.573</td>\n",
       "      <td>NaN</td>\n",
       "      <td>0.647</td>\n",
       "      <td>0.361</td>\n",
       "      <td>0.302</td>\n",
       "      <td>2018</td>\n",
       "    </tr>\n",
       "    <tr>\n",
       "      <th>106</th>\n",
       "      <td>107</td>\n",
       "      <td>Ivory Coast</td>\n",
       "      <td>4.671</td>\n",
       "      <td>0.541</td>\n",
       "      <td>0.872</td>\n",
       "      <td>0.08</td>\n",
       "      <td>0.467</td>\n",
       "      <td>0.146</td>\n",
       "      <td>0.103</td>\n",
       "      <td>2018</td>\n",
       "    </tr>\n",
       "    <tr>\n",
       "      <th>87</th>\n",
       "      <td>88</td>\n",
       "      <td>Tajikistan</td>\n",
       "      <td>5.199</td>\n",
       "      <td>0.474</td>\n",
       "      <td>1.166</td>\n",
       "      <td>NaN</td>\n",
       "      <td>0.292</td>\n",
       "      <td>0.187</td>\n",
       "      <td>0.034</td>\n",
       "      <td>2018</td>\n",
       "    </tr>\n",
       "    <tr>\n",
       "      <th>148</th>\n",
       "      <td>149</td>\n",
       "      <td>Liberia</td>\n",
       "      <td>3.495</td>\n",
       "      <td>0.076</td>\n",
       "      <td>0.858</td>\n",
       "      <td>NaN</td>\n",
       "      <td>0.419</td>\n",
       "      <td>0.206</td>\n",
       "      <td>0.030</td>\n",
       "      <td>2018</td>\n",
       "    </tr>\n",
       "    <tr>\n",
       "      <th>275</th>\n",
       "      <td>120</td>\n",
       "      <td>Gambia</td>\n",
       "      <td>4.516</td>\n",
       "      <td>0.308</td>\n",
       "      <td>0.939</td>\n",
       "      <td>NaN</td>\n",
       "      <td>0.382</td>\n",
       "      <td>0.269</td>\n",
       "      <td>0.167</td>\n",
       "      <td>2019</td>\n",
       "    </tr>\n",
       "    <tr>\n",
       "      <th>98</th>\n",
       "      <td>99</td>\n",
       "      <td>Cameroon</td>\n",
       "      <td>4.975</td>\n",
       "      <td>0.535</td>\n",
       "      <td>0.891</td>\n",
       "      <td>NaN</td>\n",
       "      <td>0.454</td>\n",
       "      <td>0.183</td>\n",
       "      <td>0.043</td>\n",
       "      <td>2018</td>\n",
       "    </tr>\n",
       "    <tr>\n",
       "      <th>180</th>\n",
       "      <td>25</td>\n",
       "      <td>Taiwan</td>\n",
       "      <td>6.446</td>\n",
       "      <td>1.368</td>\n",
       "      <td>1.430</td>\n",
       "      <td>NaN</td>\n",
       "      <td>0.351</td>\n",
       "      <td>0.242</td>\n",
       "      <td>0.097</td>\n",
       "      <td>2019</td>\n",
       "    </tr>\n",
       "    <tr>\n",
       "      <th>205</th>\n",
       "      <td>50</td>\n",
       "      <td>Ecuador</td>\n",
       "      <td>6.028</td>\n",
       "      <td>0.912</td>\n",
       "      <td>1.312</td>\n",
       "      <td>NaN</td>\n",
       "      <td>0.498</td>\n",
       "      <td>0.126</td>\n",
       "      <td>0.087</td>\n",
       "      <td>2019</td>\n",
       "    </tr>\n",
       "    <tr>\n",
       "      <th>82</th>\n",
       "      <td>83</td>\n",
       "      <td>Dominican Republic</td>\n",
       "      <td>5.302</td>\n",
       "      <td>0.982</td>\n",
       "      <td>1.441</td>\n",
       "      <td>NaN</td>\n",
       "      <td>0.578</td>\n",
       "      <td>0.120</td>\n",
       "      <td>0.106</td>\n",
       "      <td>2018</td>\n",
       "    </tr>\n",
       "    <tr>\n",
       "      <th>50</th>\n",
       "      <td>51</td>\n",
       "      <td>Slovenia</td>\n",
       "      <td>5.948</td>\n",
       "      <td>1.219</td>\n",
       "      <td>1.506</td>\n",
       "      <td>NaN</td>\n",
       "      <td>0.633</td>\n",
       "      <td>0.160</td>\n",
       "      <td>0.051</td>\n",
       "      <td>2018</td>\n",
       "    </tr>\n",
       "  </tbody>\n",
       "</table>\n",
       "</div>"
      ],
      "text/plain": [
       "     overall_rank   country_or_region  score  gdp_per_capita  social_support  \\\n",
       "55             56             Jamaica  5.890           0.819           1.493   \n",
       "88             89           Macedonia  5.185           0.959           1.239   \n",
       "62             63             Estonia  5.739           1.200           1.532   \n",
       "93             94            Mongolia  5.125           0.914           1.517   \n",
       "252            97            Bulgaria  5.011           1.092           1.513   \n",
       "9              10           Australia  7.272           1.340           1.573   \n",
       "106           107         Ivory Coast  4.671           0.541           0.872   \n",
       "87             88          Tajikistan  5.199           0.474           1.166   \n",
       "148           149             Liberia  3.495           0.076           0.858   \n",
       "275           120              Gambia  4.516           0.308           0.939   \n",
       "98             99            Cameroon  4.975           0.535           0.891   \n",
       "180            25              Taiwan  6.446           1.368           1.430   \n",
       "205            50             Ecuador  6.028           0.912           1.312   \n",
       "82             83  Dominican Republic  5.302           0.982           1.441   \n",
       "50             51            Slovenia  5.948           1.219           1.506   \n",
       "\n",
       "     healthy_life_expectancy  freedom_to_make_life_choices  generosity  \\\n",
       "55                       NaN                         0.575       0.096   \n",
       "88                       NaN                         0.394       0.173   \n",
       "62                       NaN                         0.553       0.086   \n",
       "93                       NaN                         0.395       0.253   \n",
       "252                      NaN                         0.311       0.081   \n",
       "9                        NaN                         0.647       0.361   \n",
       "106                     0.08                         0.467       0.146   \n",
       "87                       NaN                         0.292       0.187   \n",
       "148                      NaN                         0.419       0.206   \n",
       "275                      NaN                         0.382       0.269   \n",
       "98                       NaN                         0.454       0.183   \n",
       "180                      NaN                         0.351       0.242   \n",
       "205                      NaN                         0.498       0.126   \n",
       "82                       NaN                         0.578       0.120   \n",
       "50                       NaN                         0.633       0.160   \n",
       "\n",
       "     perceptions_of_corruption  year  \n",
       "55                       0.031  2018  \n",
       "88                       0.052  2018  \n",
       "62                       0.174  2018  \n",
       "93                       0.032  2018  \n",
       "252                      0.004  2019  \n",
       "9                        0.302  2018  \n",
       "106                      0.103  2018  \n",
       "87                       0.034  2018  \n",
       "148                      0.030  2018  \n",
       "275                      0.167  2019  \n",
       "98                       0.043  2018  \n",
       "180                      0.097  2019  \n",
       "205                      0.087  2019  \n",
       "82                       0.106  2018  \n",
       "50                       0.051  2018  "
      ]
     },
     "execution_count": 108,
     "metadata": {},
     "output_type": "execute_result"
    }
   ],
   "source": [
    "df_cleaned.sample(15)"
   ]
  },
  {
   "cell_type": "code",
   "execution_count": 109,
   "metadata": {},
   "outputs": [
    {
     "data": {
      "text/plain": [
       "healthy_life_expectancy         97.756410\n",
       "perceptions_of_corruption        0.320513\n",
       "country_or_region                0.000000\n",
       "overall_rank                     0.000000\n",
       "gdp_per_capita                   0.000000\n",
       "score                            0.000000\n",
       "social_support                   0.000000\n",
       "freedom_to_make_life_choices     0.000000\n",
       "generosity                       0.000000\n",
       "year                             0.000000\n",
       "dtype: float64"
      ]
     },
     "execution_count": 109,
     "metadata": {},
     "output_type": "execute_result"
    }
   ],
   "source": [
    "(df_cleaned.isnull().mean() * 100).sort_values(ascending=False)"
   ]
  },
  {
   "cell_type": "code",
   "execution_count": 112,
   "metadata": {},
   "outputs": [
    {
     "ename": "KeyError",
     "evalue": "\"['healthy_life_expectancy'] not found in axis\"",
     "output_type": "error",
     "traceback": [
      "\u001b[31m---------------------------------------------------------------------------\u001b[39m",
      "\u001b[31mKeyError\u001b[39m                                  Traceback (most recent call last)",
      "\u001b[36mCell\u001b[39m\u001b[36m \u001b[39m\u001b[32mIn[112]\u001b[39m\u001b[32m, line 1\u001b[39m\n\u001b[32m----> \u001b[39m\u001b[32m1\u001b[39m df_cleaned = \u001b[43mdf_cleaned\u001b[49m\u001b[43m.\u001b[49m\u001b[43mdrop\u001b[49m\u001b[43m(\u001b[49m\u001b[43mcolumns\u001b[49m\u001b[43m=\u001b[49m\u001b[43m[\u001b[49m\u001b[33;43m'\u001b[39;49m\u001b[33;43mhealthy_life_expectancy\u001b[39;49m\u001b[33;43m'\u001b[39;49m\u001b[43m]\u001b[49m\u001b[43m)\u001b[49m\n",
      "\u001b[36mFile \u001b[39m\u001b[32m/opt/anaconda3/envs/mienv/lib/python3.11/site-packages/pandas/core/frame.py:5588\u001b[39m, in \u001b[36mDataFrame.drop\u001b[39m\u001b[34m(self, labels, axis, index, columns, level, inplace, errors)\u001b[39m\n\u001b[32m   5440\u001b[39m \u001b[38;5;28;01mdef\u001b[39;00m\u001b[38;5;250m \u001b[39m\u001b[34mdrop\u001b[39m(\n\u001b[32m   5441\u001b[39m     \u001b[38;5;28mself\u001b[39m,\n\u001b[32m   5442\u001b[39m     labels: IndexLabel | \u001b[38;5;28;01mNone\u001b[39;00m = \u001b[38;5;28;01mNone\u001b[39;00m,\n\u001b[32m   (...)\u001b[39m\u001b[32m   5449\u001b[39m     errors: IgnoreRaise = \u001b[33m\"\u001b[39m\u001b[33mraise\u001b[39m\u001b[33m\"\u001b[39m,\n\u001b[32m   5450\u001b[39m ) -> DataFrame | \u001b[38;5;28;01mNone\u001b[39;00m:\n\u001b[32m   5451\u001b[39m \u001b[38;5;250m    \u001b[39m\u001b[33;03m\"\"\"\u001b[39;00m\n\u001b[32m   5452\u001b[39m \u001b[33;03m    Drop specified labels from rows or columns.\u001b[39;00m\n\u001b[32m   5453\u001b[39m \n\u001b[32m   (...)\u001b[39m\u001b[32m   5586\u001b[39m \u001b[33;03m            weight  1.0     0.8\u001b[39;00m\n\u001b[32m   5587\u001b[39m \u001b[33;03m    \"\"\"\u001b[39;00m\n\u001b[32m-> \u001b[39m\u001b[32m5588\u001b[39m     \u001b[38;5;28;01mreturn\u001b[39;00m \u001b[38;5;28;43msuper\u001b[39;49m\u001b[43m(\u001b[49m\u001b[43m)\u001b[49m\u001b[43m.\u001b[49m\u001b[43mdrop\u001b[49m\u001b[43m(\u001b[49m\n\u001b[32m   5589\u001b[39m \u001b[43m        \u001b[49m\u001b[43mlabels\u001b[49m\u001b[43m=\u001b[49m\u001b[43mlabels\u001b[49m\u001b[43m,\u001b[49m\n\u001b[32m   5590\u001b[39m \u001b[43m        \u001b[49m\u001b[43maxis\u001b[49m\u001b[43m=\u001b[49m\u001b[43maxis\u001b[49m\u001b[43m,\u001b[49m\n\u001b[32m   5591\u001b[39m \u001b[43m        \u001b[49m\u001b[43mindex\u001b[49m\u001b[43m=\u001b[49m\u001b[43mindex\u001b[49m\u001b[43m,\u001b[49m\n\u001b[32m   5592\u001b[39m \u001b[43m        \u001b[49m\u001b[43mcolumns\u001b[49m\u001b[43m=\u001b[49m\u001b[43mcolumns\u001b[49m\u001b[43m,\u001b[49m\n\u001b[32m   5593\u001b[39m \u001b[43m        \u001b[49m\u001b[43mlevel\u001b[49m\u001b[43m=\u001b[49m\u001b[43mlevel\u001b[49m\u001b[43m,\u001b[49m\n\u001b[32m   5594\u001b[39m \u001b[43m        \u001b[49m\u001b[43minplace\u001b[49m\u001b[43m=\u001b[49m\u001b[43minplace\u001b[49m\u001b[43m,\u001b[49m\n\u001b[32m   5595\u001b[39m \u001b[43m        \u001b[49m\u001b[43merrors\u001b[49m\u001b[43m=\u001b[49m\u001b[43merrors\u001b[49m\u001b[43m,\u001b[49m\n\u001b[32m   5596\u001b[39m \u001b[43m    \u001b[49m\u001b[43m)\u001b[49m\n",
      "\u001b[36mFile \u001b[39m\u001b[32m/opt/anaconda3/envs/mienv/lib/python3.11/site-packages/pandas/core/generic.py:4807\u001b[39m, in \u001b[36mNDFrame.drop\u001b[39m\u001b[34m(self, labels, axis, index, columns, level, inplace, errors)\u001b[39m\n\u001b[32m   4805\u001b[39m \u001b[38;5;28;01mfor\u001b[39;00m axis, labels \u001b[38;5;129;01min\u001b[39;00m axes.items():\n\u001b[32m   4806\u001b[39m     \u001b[38;5;28;01mif\u001b[39;00m labels \u001b[38;5;129;01mis\u001b[39;00m \u001b[38;5;129;01mnot\u001b[39;00m \u001b[38;5;28;01mNone\u001b[39;00m:\n\u001b[32m-> \u001b[39m\u001b[32m4807\u001b[39m         obj = \u001b[43mobj\u001b[49m\u001b[43m.\u001b[49m\u001b[43m_drop_axis\u001b[49m\u001b[43m(\u001b[49m\u001b[43mlabels\u001b[49m\u001b[43m,\u001b[49m\u001b[43m \u001b[49m\u001b[43maxis\u001b[49m\u001b[43m,\u001b[49m\u001b[43m \u001b[49m\u001b[43mlevel\u001b[49m\u001b[43m=\u001b[49m\u001b[43mlevel\u001b[49m\u001b[43m,\u001b[49m\u001b[43m \u001b[49m\u001b[43merrors\u001b[49m\u001b[43m=\u001b[49m\u001b[43merrors\u001b[49m\u001b[43m)\u001b[49m\n\u001b[32m   4809\u001b[39m \u001b[38;5;28;01mif\u001b[39;00m inplace:\n\u001b[32m   4810\u001b[39m     \u001b[38;5;28mself\u001b[39m._update_inplace(obj)\n",
      "\u001b[36mFile \u001b[39m\u001b[32m/opt/anaconda3/envs/mienv/lib/python3.11/site-packages/pandas/core/generic.py:4849\u001b[39m, in \u001b[36mNDFrame._drop_axis\u001b[39m\u001b[34m(self, labels, axis, level, errors, only_slice)\u001b[39m\n\u001b[32m   4847\u001b[39m         new_axis = axis.drop(labels, level=level, errors=errors)\n\u001b[32m   4848\u001b[39m     \u001b[38;5;28;01melse\u001b[39;00m:\n\u001b[32m-> \u001b[39m\u001b[32m4849\u001b[39m         new_axis = \u001b[43maxis\u001b[49m\u001b[43m.\u001b[49m\u001b[43mdrop\u001b[49m\u001b[43m(\u001b[49m\u001b[43mlabels\u001b[49m\u001b[43m,\u001b[49m\u001b[43m \u001b[49m\u001b[43merrors\u001b[49m\u001b[43m=\u001b[49m\u001b[43merrors\u001b[49m\u001b[43m)\u001b[49m\n\u001b[32m   4850\u001b[39m     indexer = axis.get_indexer(new_axis)\n\u001b[32m   4852\u001b[39m \u001b[38;5;66;03m# Case for non-unique axis\u001b[39;00m\n\u001b[32m   4853\u001b[39m \u001b[38;5;28;01melse\u001b[39;00m:\n",
      "\u001b[36mFile \u001b[39m\u001b[32m/opt/anaconda3/envs/mienv/lib/python3.11/site-packages/pandas/core/indexes/base.py:7136\u001b[39m, in \u001b[36mIndex.drop\u001b[39m\u001b[34m(self, labels, errors)\u001b[39m\n\u001b[32m   7134\u001b[39m \u001b[38;5;28;01mif\u001b[39;00m mask.any():\n\u001b[32m   7135\u001b[39m     \u001b[38;5;28;01mif\u001b[39;00m errors != \u001b[33m\"\u001b[39m\u001b[33mignore\u001b[39m\u001b[33m\"\u001b[39m:\n\u001b[32m-> \u001b[39m\u001b[32m7136\u001b[39m         \u001b[38;5;28;01mraise\u001b[39;00m \u001b[38;5;167;01mKeyError\u001b[39;00m(\u001b[33mf\u001b[39m\u001b[33m\"\u001b[39m\u001b[38;5;132;01m{\u001b[39;00mlabels[mask].tolist()\u001b[38;5;132;01m}\u001b[39;00m\u001b[33m not found in axis\u001b[39m\u001b[33m\"\u001b[39m)\n\u001b[32m   7137\u001b[39m     indexer = indexer[~mask]\n\u001b[32m   7138\u001b[39m \u001b[38;5;28;01mreturn\u001b[39;00m \u001b[38;5;28mself\u001b[39m.delete(indexer)\n",
      "\u001b[31mKeyError\u001b[39m: \"['healthy_life_expectancy'] not found in axis\""
     ]
    }
   ],
   "source": [
    "df_cleaned = df_cleaned.drop(columns=['healthy_life_expectancy'])"
   ]
  },
  {
   "cell_type": "code",
   "execution_count": 113,
   "metadata": {},
   "outputs": [
    {
     "name": "stdout",
     "output_type": "stream",
     "text": [
      "<class 'pandas.core.frame.DataFrame'>\n",
      "RangeIndex: 312 entries, 0 to 311\n",
      "Data columns (total 9 columns):\n",
      " #   Column                        Non-Null Count  Dtype   \n",
      "---  ------                        --------------  -----   \n",
      " 0   overall_rank                  312 non-null    int64   \n",
      " 1   country_or_region             312 non-null    category\n",
      " 2   score                         312 non-null    float64 \n",
      " 3   gdp_per_capita                312 non-null    float64 \n",
      " 4   social_support                312 non-null    float64 \n",
      " 5   freedom_to_make_life_choices  312 non-null    float64 \n",
      " 6   generosity                    312 non-null    float64 \n",
      " 7   perceptions_of_corruption     311 non-null    float64 \n",
      " 8   year                          312 non-null    int64   \n",
      "dtypes: category(1), float64(6), int64(2)\n",
      "memory usage: 25.6 KB\n"
     ]
    }
   ],
   "source": [
    "df_cleaned.info()"
   ]
  },
  {
   "cell_type": "code",
   "execution_count": 114,
   "metadata": {},
   "outputs": [
    {
     "name": "stdout",
     "output_type": "stream",
     "text": [
      "overall_rank                    0\n",
      "country_or_region               0\n",
      "score                           0\n",
      "gdp_per_capita                  0\n",
      "social_support                  0\n",
      "freedom_to_make_life_choices    0\n",
      "generosity                      0\n",
      "perceptions_of_corruption       1\n",
      "year                            0\n",
      "dtype: int64\n"
     ]
    }
   ],
   "source": [
    "# Raw count of NaNs per column\n",
    "print(df_cleaned.isnull().sum())"
   ]
  },
  {
   "cell_type": "code",
   "execution_count": 79,
   "metadata": {},
   "outputs": [
    {
     "name": "stdout",
     "output_type": "stream",
     "text": [
      "overall_rank                    0.00\n",
      "country_or_region               0.00\n",
      "score                           0.00\n",
      "gdp_per_capita                  0.00\n",
      "social_support                  0.00\n",
      "freedom_to_make_life_choices    0.00\n",
      "generosity                      0.00\n",
      "perceptions_of_corruption       0.32\n",
      "year                            0.00\n",
      "dtype: float64\n"
     ]
    }
   ],
   "source": [
    "print((df_cleaned.isnull().mean() * 100).round(2))"
   ]
  },
  {
   "cell_type": "code",
   "execution_count": 80,
   "metadata": {},
   "outputs": [
    {
     "data": {
      "text/html": [
       "<div>\n",
       "<style scoped>\n",
       "    .dataframe tbody tr th:only-of-type {\n",
       "        vertical-align: middle;\n",
       "    }\n",
       "\n",
       "    .dataframe tbody tr th {\n",
       "        vertical-align: top;\n",
       "    }\n",
       "\n",
       "    .dataframe thead th {\n",
       "        text-align: right;\n",
       "    }\n",
       "</style>\n",
       "<table border=\"1\" class=\"dataframe\">\n",
       "  <thead>\n",
       "    <tr style=\"text-align: right;\">\n",
       "      <th></th>\n",
       "      <th>overall_rank</th>\n",
       "      <th>country_or_region</th>\n",
       "      <th>score</th>\n",
       "      <th>gdp_per_capita</th>\n",
       "      <th>social_support</th>\n",
       "      <th>freedom_to_make_life_choices</th>\n",
       "      <th>generosity</th>\n",
       "      <th>perceptions_of_corruption</th>\n",
       "      <th>year</th>\n",
       "    </tr>\n",
       "  </thead>\n",
       "  <tbody>\n",
       "    <tr>\n",
       "      <th>19</th>\n",
       "      <td>20</td>\n",
       "      <td>United Arab Emirates</td>\n",
       "      <td>6.774</td>\n",
       "      <td>2.096</td>\n",
       "      <td>0.776</td>\n",
       "      <td>0.284</td>\n",
       "      <td>0.186</td>\n",
       "      <td>NaN</td>\n",
       "      <td>2018</td>\n",
       "    </tr>\n",
       "  </tbody>\n",
       "</table>\n",
       "</div>"
      ],
      "text/plain": [
       "    overall_rank     country_or_region  score  gdp_per_capita  social_support  \\\n",
       "19            20  United Arab Emirates  6.774           2.096           0.776   \n",
       "\n",
       "    freedom_to_make_life_choices  generosity  perceptions_of_corruption  year  \n",
       "19                         0.284       0.186                        NaN  2018  "
      ]
     },
     "execution_count": 80,
     "metadata": {},
     "output_type": "execute_result"
    }
   ],
   "source": [
    "df_cleaned[df_cleaned.isnull().any(axis=1)].head()"
   ]
  },
  {
   "cell_type": "markdown",
   "metadata": {},
   "source": [
    "Since it's just 1 row out of the entire dataset, the cleanest approach is to drop it"
   ]
  },
  {
   "cell_type": "code",
   "execution_count": 81,
   "metadata": {},
   "outputs": [],
   "source": [
    "df_cleaned = df_cleaned.dropna(subset=['perceptions_of_corruption'])"
   ]
  },
  {
   "cell_type": "code",
   "execution_count": 82,
   "metadata": {},
   "outputs": [
    {
     "name": "stdout",
     "output_type": "stream",
     "text": [
      "overall_rank                    0\n",
      "country_or_region               0\n",
      "score                           0\n",
      "gdp_per_capita                  0\n",
      "social_support                  0\n",
      "freedom_to_make_life_choices    0\n",
      "generosity                      0\n",
      "perceptions_of_corruption       0\n",
      "year                            0\n",
      "dtype: int64\n"
     ]
    }
   ],
   "source": [
    "print(df_cleaned.isnull().sum())"
   ]
  },
  {
   "cell_type": "markdown",
   "metadata": {},
   "source": [
    "## Handle Missing Values"
   ]
  },
  {
   "cell_type": "code",
   "execution_count": 37,
   "metadata": {},
   "outputs": [
    {
     "data": {
      "text/plain": [
       "overall_rank                    0.0\n",
       "country_or_region               0.0\n",
       "score                           0.0\n",
       "gdp_per_capita                  0.0\n",
       "social_support                  0.0\n",
       "freedom_to_make_life_choices    0.0\n",
       "generosity                      0.0\n",
       "perceptions_of_corruption       0.0\n",
       "year                            0.0\n",
       "dtype: float64"
      ]
     },
     "execution_count": 37,
     "metadata": {},
     "output_type": "execute_result"
    }
   ],
   "source": [
    "(df_cleaned.isnull().mean() * 100).sort_values(ascending=False)"
   ]
  },
  {
   "cell_type": "markdown",
   "metadata": {},
   "source": [
    "Missingness = negligible\n",
    "\n",
    "Missingness quantified (only 0.1% in perceptions_of_corruption)\n",
    "\n",
    "The NaN was MCAR (just one missing entry, no dependency on other factors seen).\n",
    "\n",
    "✅ Correct solution = drop the one row (which you already did). Dataset is now complete."
   ]
  },
  {
   "cell_type": "markdown",
   "metadata": {},
   "source": [
    "## Data Consistency & Duplicates"
   ]
  },
  {
   "cell_type": "markdown",
   "metadata": {},
   "source": [
    "We don’t want the same (country, year) repeated unless justified."
   ]
  },
  {
   "cell_type": "code",
   "execution_count": 38,
   "metadata": {},
   "outputs": [
    {
     "name": "stdout",
     "output_type": "stream",
     "text": [
      "Total duplicate rows: 0\n"
     ]
    }
   ],
   "source": [
    "# Check total duplicates (full row)\n",
    "print(\"Total duplicate rows:\", df_cleaned.duplicated().sum())"
   ]
  },
  {
   "cell_type": "code",
   "execution_count": 39,
   "metadata": {},
   "outputs": [
    {
     "name": "stdout",
     "output_type": "stream",
     "text": [
      "Country-Year duplicates: 0\n"
     ]
    }
   ],
   "source": [
    "# Check duplicates by key (country, year)\n",
    "print(\"Country-Year duplicates:\", df_cleaned[['country_or_region', 'year']].duplicated().sum())"
   ]
  },
  {
   "cell_type": "code",
   "execution_count": 40,
   "metadata": {},
   "outputs": [],
   "source": [
    "# Check Impossible / Illogical Values\n",
    "\n",
    "# Define expected ranges\n",
    "checks = {\n",
    "    'score': (0, 10),\n",
    "    'gdp_per_capita': (0, 2),\n",
    "    'social_support': (0, 2),\n",
    "    'freedom_to_make_life_choices': (0, 1),\n",
    "    'generosity': (0, 1),\n",
    "    'perceptions_of_corruption': (0, 1)\n",
    "}\n",
    "\n",
    "# Spot out-of-range values\n",
    "for col, (low, high) in checks.items():\n",
    "    bad_vals = df_cleaned[(df_cleaned[col] < low) | (df_cleaned[col] > high)]\n",
    "    if not bad_vals.empty:\n",
    "        print(f\"⚠️ Column {col} has values outside {low}–{high}:\")\n",
    "        print(bad_vals[[col, 'country_or_region', 'year']])"
   ]
  },
  {
   "cell_type": "markdown",
   "metadata": {},
   "source": [
    "Duplicates: none found → every (country, year) is unique.\n",
    "\n",
    "Consistency checks: all numeric values fall within expected ranges → no illogical or impossible values detected.\n",
    "\n",
    "👉 This means the dataset is clean, non-redundant, and consistent."
   ]
  },
  {
   "cell_type": "markdown",
   "metadata": {},
   "source": [
    "## Descriptive Statistics"
   ]
  },
  {
   "cell_type": "code",
   "execution_count": 41,
   "metadata": {},
   "outputs": [
    {
     "data": {
      "text/html": [
       "<div>\n",
       "<style scoped>\n",
       "    .dataframe tbody tr th:only-of-type {\n",
       "        vertical-align: middle;\n",
       "    }\n",
       "\n",
       "    .dataframe tbody tr th {\n",
       "        vertical-align: top;\n",
       "    }\n",
       "\n",
       "    .dataframe thead th {\n",
       "        text-align: right;\n",
       "    }\n",
       "</style>\n",
       "<table border=\"1\" class=\"dataframe\">\n",
       "  <thead>\n",
       "    <tr style=\"text-align: right;\">\n",
       "      <th></th>\n",
       "      <th>overall_rank</th>\n",
       "      <th>score</th>\n",
       "      <th>gdp_per_capita</th>\n",
       "      <th>social_support</th>\n",
       "      <th>freedom_to_make_life_choices</th>\n",
       "      <th>generosity</th>\n",
       "      <th>perceptions_of_corruption</th>\n",
       "      <th>year</th>\n",
       "    </tr>\n",
       "  </thead>\n",
       "  <tbody>\n",
       "    <tr>\n",
       "      <th>count</th>\n",
       "      <td>311.000000</td>\n",
       "      <td>311.000000</td>\n",
       "      <td>311.000000</td>\n",
       "      <td>311.000000</td>\n",
       "      <td>311.000000</td>\n",
       "      <td>311.000000</td>\n",
       "      <td>311.000000</td>\n",
       "      <td>311.000000</td>\n",
       "    </tr>\n",
       "    <tr>\n",
       "      <th>mean</th>\n",
       "      <td>78.688103</td>\n",
       "      <td>5.387061</td>\n",
       "      <td>0.894447</td>\n",
       "      <td>1.212424</td>\n",
       "      <td>0.423987</td>\n",
       "      <td>0.182916</td>\n",
       "      <td>0.111299</td>\n",
       "      <td>2018.501608</td>\n",
       "    </tr>\n",
       "    <tr>\n",
       "      <th>std</th>\n",
       "      <td>45.054689</td>\n",
       "      <td>1.113653</td>\n",
       "      <td>0.389311</td>\n",
       "      <td>0.299774</td>\n",
       "      <td>0.156074</td>\n",
       "      <td>0.096895</td>\n",
       "      <td>0.095365</td>\n",
       "      <td>0.500803</td>\n",
       "    </tr>\n",
       "    <tr>\n",
       "      <th>min</th>\n",
       "      <td>1.000000</td>\n",
       "      <td>2.853000</td>\n",
       "      <td>0.000000</td>\n",
       "      <td>0.000000</td>\n",
       "      <td>0.000000</td>\n",
       "      <td>0.000000</td>\n",
       "      <td>0.000000</td>\n",
       "      <td>2018.000000</td>\n",
       "    </tr>\n",
       "    <tr>\n",
       "      <th>25%</th>\n",
       "      <td>40.000000</td>\n",
       "      <td>4.512500</td>\n",
       "      <td>0.608000</td>\n",
       "      <td>1.057000</td>\n",
       "      <td>0.325500</td>\n",
       "      <td>0.108500</td>\n",
       "      <td>0.050000</td>\n",
       "      <td>2018.000000</td>\n",
       "    </tr>\n",
       "    <tr>\n",
       "      <th>50%</th>\n",
       "      <td>79.000000</td>\n",
       "      <td>5.373000</td>\n",
       "      <td>0.960000</td>\n",
       "      <td>1.266000</td>\n",
       "      <td>0.450000</td>\n",
       "      <td>0.175000</td>\n",
       "      <td>0.082000</td>\n",
       "      <td>2019.000000</td>\n",
       "    </tr>\n",
       "    <tr>\n",
       "      <th>75%</th>\n",
       "      <td>117.500000</td>\n",
       "      <td>6.173500</td>\n",
       "      <td>1.214500</td>\n",
       "      <td>1.458000</td>\n",
       "      <td>0.540500</td>\n",
       "      <td>0.245000</td>\n",
       "      <td>0.140500</td>\n",
       "      <td>2019.000000</td>\n",
       "    </tr>\n",
       "    <tr>\n",
       "      <th>max</th>\n",
       "      <td>156.000000</td>\n",
       "      <td>7.769000</td>\n",
       "      <td>1.684000</td>\n",
       "      <td>1.644000</td>\n",
       "      <td>0.724000</td>\n",
       "      <td>0.598000</td>\n",
       "      <td>0.457000</td>\n",
       "      <td>2019.000000</td>\n",
       "    </tr>\n",
       "  </tbody>\n",
       "</table>\n",
       "</div>"
      ],
      "text/plain": [
       "       overall_rank       score  gdp_per_capita  social_support  \\\n",
       "count    311.000000  311.000000      311.000000      311.000000   \n",
       "mean      78.688103    5.387061        0.894447        1.212424   \n",
       "std       45.054689    1.113653        0.389311        0.299774   \n",
       "min        1.000000    2.853000        0.000000        0.000000   \n",
       "25%       40.000000    4.512500        0.608000        1.057000   \n",
       "50%       79.000000    5.373000        0.960000        1.266000   \n",
       "75%      117.500000    6.173500        1.214500        1.458000   \n",
       "max      156.000000    7.769000        1.684000        1.644000   \n",
       "\n",
       "       freedom_to_make_life_choices  generosity  perceptions_of_corruption  \\\n",
       "count                    311.000000  311.000000                 311.000000   \n",
       "mean                       0.423987    0.182916                   0.111299   \n",
       "std                        0.156074    0.096895                   0.095365   \n",
       "min                        0.000000    0.000000                   0.000000   \n",
       "25%                        0.325500    0.108500                   0.050000   \n",
       "50%                        0.450000    0.175000                   0.082000   \n",
       "75%                        0.540500    0.245000                   0.140500   \n",
       "max                        0.724000    0.598000                   0.457000   \n",
       "\n",
       "              year  \n",
       "count   311.000000  \n",
       "mean   2018.501608  \n",
       "std       0.500803  \n",
       "min    2018.000000  \n",
       "25%    2018.000000  \n",
       "50%    2019.000000  \n",
       "75%    2019.000000  \n",
       "max    2019.000000  "
      ]
     },
     "execution_count": 41,
     "metadata": {},
     "output_type": "execute_result"
    }
   ],
   "source": [
    "df_cleaned.describe()"
   ]
  },
  {
   "cell_type": "code",
   "execution_count": 42,
   "metadata": {},
   "outputs": [
    {
     "name": "stdout",
     "output_type": "stream",
     "text": [
      "                              count         mean        std       min  \\\n",
      "overall_rank                  311.0    78.688103  45.054689     1.000   \n",
      "score                         311.0     5.387061   1.113653     2.853   \n",
      "gdp_per_capita                311.0     0.894447   0.389311     0.000   \n",
      "social_support                311.0     1.212424   0.299774     0.000   \n",
      "freedom_to_make_life_choices  311.0     0.423987   0.156074     0.000   \n",
      "generosity                    311.0     0.182916   0.096895     0.000   \n",
      "perceptions_of_corruption     311.0     0.111299   0.095365     0.000   \n",
      "year                          311.0  2018.501608   0.500803  2018.000   \n",
      "\n",
      "                                    25%       50%        75%       max  \\\n",
      "overall_rank                    40.0000    79.000   117.5000   156.000   \n",
      "score                            4.5125     5.373     6.1735     7.769   \n",
      "gdp_per_capita                   0.6080     0.960     1.2145     1.684   \n",
      "social_support                   1.0570     1.266     1.4580     1.644   \n",
      "freedom_to_make_life_choices     0.3255     0.450     0.5405     0.724   \n",
      "generosity                       0.1085     0.175     0.2450     0.598   \n",
      "perceptions_of_corruption        0.0500     0.082     0.1405     0.457   \n",
      "year                          2018.0000  2019.000  2019.0000  2019.000   \n",
      "\n",
      "                                median  skewness  kurtosis  \n",
      "overall_rank                    79.000 -0.005499 -1.195349  \n",
      "score                            5.373  0.018939 -0.660297  \n",
      "gdp_per_capita                   0.960 -0.376950 -0.741541  \n",
      "social_support                   1.266 -1.115888  1.211856  \n",
      "freedom_to_make_life_choices     0.450 -0.639369 -0.068607  \n",
      "generosity                       0.175  0.802667  1.255134  \n",
      "perceptions_of_corruption        0.082  1.657917  2.407959  \n",
      "year                          2019.000 -0.006462 -2.012945  \n"
     ]
    }
   ],
   "source": [
    "# Select only numeric columns before computing stats\n",
    "num_df = df_cleaned.select_dtypes(include=['number'])\n",
    "\n",
    "# Basic descriptive stats\n",
    "summary_stats = num_df.describe().T  # transpose for readability\n",
    "\n",
    "# Add median, skewness, kurtosis\n",
    "summary_stats['median']   = num_df.median()\n",
    "summary_stats['skewness'] = num_df.skew()\n",
    "summary_stats['kurtosis'] = num_df.kurt()\n",
    "\n",
    "print(summary_stats)"
   ]
  },
  {
   "cell_type": "code",
   "execution_count": 43,
   "metadata": {},
   "outputs": [
    {
     "name": "stdout",
     "output_type": "stream",
     "text": [
      "['overall_rank', 'score', 'gdp_per_capita', 'social_support', 'freedom_to_make_life_choices', 'generosity', 'perceptions_of_corruption', 'year']\n"
     ]
    }
   ],
   "source": [
    "numeric_cols = df_cleaned.select_dtypes(include=['number']).columns.tolist()\n",
    "print(numeric_cols)"
   ]
  },
  {
   "cell_type": "code",
   "execution_count": 44,
   "metadata": {},
   "outputs": [
    {
     "name": "stdout",
     "output_type": "stream",
     "text": [
      "🔍 KEY INSIGHTS FROM THE STATISTICS:\n",
      "================================================================================\n",
      "\n",
      "OVERALL_RANK:\n",
      "  • Range: 1.000 to 156.000\n",
      "  • Mean: 78.688, Median: 79.000\n",
      "  • Distribution: Fairly symmetric (skew: -0.005)\n",
      "\n",
      "SCORE:\n",
      "  • Range: 2.853 to 7.769\n",
      "  • Mean: 5.387, Median: 5.373\n",
      "  • Distribution: Fairly symmetric (skew: 0.019)\n",
      "\n",
      "GDP_PER_CAPITA:\n",
      "  • Range: 0.000 to 1.684\n",
      "  • Mean: 0.894, Median: 0.960\n",
      "  • Distribution: Fairly symmetric (skew: -0.377)\n",
      "\n",
      "SOCIAL_SUPPORT:\n",
      "  • Range: 0.000 to 1.644\n",
      "  • Mean: 1.212, Median: 1.266\n",
      "  • Distribution: Left-skewed (skew: -1.116) - few low values\n",
      "\n",
      "FREEDOM_TO_MAKE_LIFE_CHOICES:\n",
      "  • Range: 0.000 to 0.724\n",
      "  • Mean: 0.424, Median: 0.450\n",
      "  • Distribution: Left-skewed (skew: -0.639) - few low values\n",
      "\n",
      "GENEROSITY:\n",
      "  • Range: 0.000 to 0.598\n",
      "  • Mean: 0.183, Median: 0.175\n",
      "  • Distribution: Right-skewed (skew: 0.803) - few high values\n",
      "\n",
      "PERCEPTIONS_OF_CORRUPTION:\n",
      "  • Range: 0.000 to 0.457\n",
      "  • Mean: 0.111, Median: 0.082\n",
      "  • Distribution: Right-skewed (skew: 1.658) - few high values\n",
      "\n",
      "YEAR:\n",
      "  • Range: 2018.000 to 2019.000\n",
      "  • Mean: 2018.502, Median: 2019.000\n",
      "  • Distribution: Fairly symmetric (skew: -0.006)\n",
      "\n",
      "📈 Dataset shape: 311 countries/observations, 9 variables\n",
      "📅 Years covered: 2018 to 2019\n"
     ]
    }
   ],
   "source": [
    "print(\"🔍 KEY INSIGHTS FROM THE STATISTICS:\")\n",
    "print(\"=\" * 80)\n",
    "\n",
    "# Analyze key patterns\n",
    "for col in numeric_cols:\n",
    "    if col in summary_stats.index:\n",
    "        skew = summary_stats.loc[col, 'skewness']\n",
    "        mean_val = summary_stats.loc[col, 'mean']\n",
    "        median_val = summary_stats.loc[col, 'median']\n",
    "        \n",
    "        print(f\"\\n{col.upper()}:\")\n",
    "        print(f\"  • Range: {summary_stats.loc[col, 'min']:.3f} to {summary_stats.loc[col, 'max']:.3f}\")\n",
    "        print(f\"  • Mean: {mean_val:.3f}, Median: {median_val:.3f}\")\n",
    "        \n",
    "        if abs(skew) < 0.5:\n",
    "            print(f\"  • Distribution: Fairly symmetric (skew: {skew:.3f})\")\n",
    "        elif skew > 0.5:\n",
    "            print(f\"  • Distribution: Right-skewed (skew: {skew:.3f}) - few high values\")\n",
    "        else:\n",
    "            print(f\"  • Distribution: Left-skewed (skew: {skew:.3f}) - few low values\")\n",
    "\n",
    "print(f\"\\n📈 Dataset shape: {df_cleaned.shape[0]} countries/observations, {df_cleaned.shape[1]} variables\")\n",
    "print(f\"📅 Years covered: {df_cleaned['year'].min()} to {df_cleaned['year'].max()}\")"
   ]
  },
  {
   "cell_type": "code",
   "execution_count": 115,
   "metadata": {},
   "outputs": [],
   "source": [
    "# For reproductibility \n",
    "summary_stats.to_csv(\"descriptive_stats.csv\")"
   ]
  },
  {
   "cell_type": "code",
   "execution_count": 116,
   "metadata": {},
   "outputs": [
    {
     "data": {
      "text/plain": [
       "<Figure size 640x480 with 0 Axes>"
      ]
     },
     "metadata": {},
     "output_type": "display_data"
    }
   ],
   "source": [
    "plt.savefig(f'../visualizations/univariate_plots/dist_{col}.png', dpi=300, bbox_inches='tight')"
   ]
  },
  {
   "cell_type": "code",
   "execution_count": 118,
   "metadata": {},
   "outputs": [],
   "source": [
    "summary_stats.to_csv(\"../data/processed/descriptive_stats.csv\")"
   ]
  }
 ],
 "metadata": {
  "colab": {
   "collapsed_sections": [],
   "provenance": []
  },
  "hide_input": false,
  "kernelspec": {
   "display_name": "mienv",
   "language": "python",
   "name": "python3"
  },
  "language_info": {
   "codemirror_mode": {
    "name": "ipython",
    "version": 3
   },
   "file_extension": ".py",
   "mimetype": "text/x-python",
   "name": "python",
   "nbconvert_exporter": "python",
   "pygments_lexer": "ipython3",
   "version": "3.11.13"
  },
  "toc": {
   "base_numbering": 1,
   "nav_menu": {},
   "number_sections": true,
   "sideBar": true,
   "skip_h1_title": false,
   "title_cell": "Table of Contents",
   "title_sidebar": "Contents",
   "toc_cell": false,
   "toc_position": {},
   "toc_section_display": true,
   "toc_window_display": false
  }
 },
 "nbformat": 4,
 "nbformat_minor": 4
}
